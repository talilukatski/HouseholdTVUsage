{
 "cells": [
  {
   "cell_type": "code",
   "execution_count": 0,
   "metadata": {
    "application/vnd.databricks.v1+cell": {
     "cellMetadata": {
      "byteLimit": 2048000,
      "rowLimit": 10000
     },
     "inputWidgets": {},
     "nuid": "c43a335f-67c7-428b-b42b-8e6f26ff89f3",
     "showTitle": false,
     "title": ""
    }
   },
   "outputs": [],
   "source": [
    "from pyspark.sql.types import *\n",
    "import pyspark.sql.functions as f\n",
    "\n",
    "from pyspark import SparkContext\n",
    "from pyspark.sql import SparkSession\n",
    " \n",
    "spark = SparkSession.builder.appName(\"my_project_1\").getOrCreate()\n",
    "sc = spark.sparkContext"
   ]
  },
  {
   "cell_type": "code",
   "execution_count": 0,
   "metadata": {
    "application/vnd.databricks.v1+cell": {
     "cellMetadata": {
      "byteLimit": 2048000,
      "rowLimit": 10000
     },
     "inputWidgets": {},
     "nuid": "cf89fd53-aee7-44e9-8139-ddb05b42458c",
     "showTitle": false,
     "title": ""
    }
   },
   "outputs": [],
   "source": [
    "# Read a CSV into a dataframe\n",
    "# There is a smarter version, that will first check if there is a Parquet file and use it\n",
    "def load_csv_file(filename, schema):\n",
    "  # Reads the relevant file from distributed file system using the given schema\n",
    "\n",
    "  allowed_files = {'Daily program data': ('Daily program data', \"|\"),\n",
    "                   'demographic': ('demographic', \"|\")}\n",
    "\n",
    "  if filename not in allowed_files.keys():\n",
    "    print(f'You were trying to access unknown file \\\"{filename}\\\". Only valid options are {allowed_files.keys()}')\n",
    "    return None\n",
    "\n",
    "  filepath = allowed_files[filename][0]\n",
    "  dataPath = f\"dbfs:/mnt/coursedata2024/fwm-stb-data/{filepath}\"\n",
    "  delimiter = allowed_files[filename][1]\n",
    "\n",
    "  df = spark.read.format(\"csv\")\\\n",
    "    .option(\"header\",\"false\")\\\n",
    "    .option(\"delimiter\",delimiter)\\\n",
    "    .schema(schema)\\\n",
    "    .load(dataPath)\n",
    "  return df\n",
    "\n",
    "# This dict holds the correct schemata for easily loading the CSVs\n",
    "schemas_dict = {'Daily program data':\n",
    "                  StructType([\n",
    "                    StructField('prog_code', StringType()),\n",
    "                    StructField('title', StringType()),\n",
    "                    StructField('genre', StringType()),\n",
    "                    StructField('air_date', StringType()),\n",
    "                    StructField('air_time', StringType()),\n",
    "                    StructField('Duration', FloatType())\n",
    "                  ]),\n",
    "                'viewing':\n",
    "                  StructType([\n",
    "                    StructField('device_id', StringType()),\n",
    "                    StructField('event_date', StringType()),\n",
    "                    StructField('event_time', IntegerType()),\n",
    "                    StructField('mso_code', StringType()),\n",
    "                    StructField('prog_code', StringType()),\n",
    "                    StructField('station_num', StringType())\n",
    "                  ]),\n",
    "                'viewing_full':\n",
    "                  StructType([\n",
    "                    StructField('mso_code', StringType()),\n",
    "                    StructField('device_id', StringType()),\n",
    "                    StructField('event_date', IntegerType()),\n",
    "                    StructField('event_time', IntegerType()),\n",
    "                    StructField('station_num', StringType()),\n",
    "                    StructField('prog_code', StringType())\n",
    "                  ]),\n",
    "                'demographic':\n",
    "                  StructType([StructField('household_id',StringType()),\n",
    "                    StructField('household_size',IntegerType()),\n",
    "                    StructField('num_adults',IntegerType()),\n",
    "                    StructField('num_generations',IntegerType()),\n",
    "                    StructField('adult_range',StringType()),\n",
    "                    StructField('marital_status',StringType()),\n",
    "                    StructField('race_code',StringType()),\n",
    "                    StructField('presence_children',StringType()),\n",
    "                    StructField('num_children',IntegerType()),\n",
    "                    StructField('age_children',StringType()), #format like range - 'bitwise'\n",
    "                    StructField('age_range_children',StringType()),\n",
    "                    StructField('dwelling_type',StringType()),\n",
    "                    StructField('home_owner_status',StringType()),\n",
    "                    StructField('length_residence',IntegerType()),\n",
    "                    StructField('home_market_value',StringType()),\n",
    "                    StructField('num_vehicles',IntegerType()),\n",
    "                    StructField('vehicle_make',StringType()),\n",
    "                    StructField('vehicle_model',StringType()),\n",
    "                    StructField('vehicle_year',IntegerType()),\n",
    "                    StructField('net_worth',IntegerType()),\n",
    "                    StructField('income',StringType()),\n",
    "                    StructField('gender_individual',StringType()),\n",
    "                    StructField('age_individual',IntegerType()),\n",
    "                    StructField('education_highest',StringType()),\n",
    "                    StructField('occupation_highest',StringType()),\n",
    "                    StructField('education_1',StringType()),\n",
    "                    StructField('occupation_1',StringType()),\n",
    "                    StructField('age_2',IntegerType()),\n",
    "                    StructField('education_2',StringType()),\n",
    "                    StructField('occupation_2',StringType()),\n",
    "                    StructField('age_3',IntegerType()),\n",
    "                    StructField('education_3',StringType()),\n",
    "                    StructField('occupation_3',StringType()),\n",
    "                    StructField('age_4',IntegerType()),\n",
    "                    StructField('education_4',StringType()),\n",
    "                    StructField('occupation_4',StringType()),\n",
    "                    StructField('age_5',IntegerType()),\n",
    "                    StructField('education_5',StringType()),\n",
    "                    StructField('occupation_5',StringType()),\n",
    "                    StructField('polit_party_regist',StringType()),\n",
    "                    StructField('polit_party_input',StringType()),\n",
    "                    StructField('household_clusters',StringType()),\n",
    "                    StructField('insurance_groups',StringType()),\n",
    "                    StructField('financial_groups',StringType()),\n",
    "                    StructField('green_living',StringType())\n",
    "                  ])\n",
    "}"
   ]
  },
  {
   "cell_type": "markdown",
   "metadata": {
    "application/vnd.databricks.v1+cell": {
     "cellMetadata": {
      "byteLimit": 2048000,
      "rowLimit": 10000
     },
     "inputWidgets": {},
     "nuid": "a8b2a258-7b54-4b39-82c6-23b01030c554",
     "showTitle": false,
     "title": ""
    }
   },
   "source": [
    "# Read demogrphic data"
   ]
  },
  {
   "cell_type": "code",
   "execution_count": 0,
   "metadata": {
    "application/vnd.databricks.v1+cell": {
     "cellMetadata": {
      "byteLimit": 2048000,
      "rowLimit": 10000
     },
     "inputWidgets": {},
     "nuid": "0a70c78a-0c14-4362-b3d5-168b5e27481e",
     "showTitle": false,
     "title": ""
    }
   },
   "outputs": [
    {
     "output_type": "stream",
     "name": "stdout",
     "output_type": "stream",
     "text": [
      "root\n |-- household_id: string (nullable = true)\n |-- household_size: integer (nullable = true)\n |-- num_adults: integer (nullable = true)\n |-- num_generations: integer (nullable = true)\n |-- adult_range: string (nullable = true)\n |-- marital_status: string (nullable = true)\n |-- race_code: string (nullable = true)\n |-- presence_children: string (nullable = true)\n |-- num_children: integer (nullable = true)\n |-- age_children: string (nullable = true)\n |-- age_range_children: string (nullable = true)\n |-- dwelling_type: string (nullable = true)\n |-- home_owner_status: string (nullable = true)\n |-- length_residence: integer (nullable = true)\n |-- home_market_value: string (nullable = true)\n |-- num_vehicles: integer (nullable = true)\n |-- vehicle_make: string (nullable = true)\n |-- vehicle_model: string (nullable = true)\n |-- vehicle_year: integer (nullable = true)\n |-- net_worth: integer (nullable = true)\n |-- income: string (nullable = true)\n |-- gender_individual: string (nullable = true)\n |-- age_individual: integer (nullable = true)\n |-- education_highest: string (nullable = true)\n |-- occupation_highest: string (nullable = true)\n |-- education_1: string (nullable = true)\n |-- occupation_1: string (nullable = true)\n |-- age_2: integer (nullable = true)\n |-- education_2: string (nullable = true)\n |-- occupation_2: string (nullable = true)\n |-- age_3: integer (nullable = true)\n |-- education_3: string (nullable = true)\n |-- occupation_3: string (nullable = true)\n |-- age_4: integer (nullable = true)\n |-- education_4: string (nullable = true)\n |-- occupation_4: string (nullable = true)\n |-- age_5: integer (nullable = true)\n |-- education_5: string (nullable = true)\n |-- occupation_5: string (nullable = true)\n |-- polit_party_regist: string (nullable = true)\n |-- polit_party_input: string (nullable = true)\n |-- household_clusters: string (nullable = true)\n |-- insurance_groups: string (nullable = true)\n |-- financial_groups: string (nullable = true)\n |-- green_living: string (nullable = true)\n\ndemo_df contains 357721 records!\n"
     ]
    },
    {
     "output_type": "display_data",
     "data": {
      "text/html": [
       "<style scoped>\n",
       "  .table-result-container {\n",
       "    max-height: 300px;\n",
       "    overflow: auto;\n",
       "  }\n",
       "  table, th, td {\n",
       "    border: 1px solid black;\n",
       "    border-collapse: collapse;\n",
       "  }\n",
       "  th, td {\n",
       "    padding: 5px;\n",
       "  }\n",
       "  th {\n",
       "    text-align: left;\n",
       "  }\n",
       "</style><div class='table-result-container'><table class='table-result'><thead style='background-color: white'><tr><th>household_id</th><th>household_size</th><th>num_adults</th><th>num_generations</th><th>adult_range</th><th>marital_status</th><th>race_code</th><th>presence_children</th><th>num_children</th><th>age_children</th><th>age_range_children</th><th>dwelling_type</th><th>home_owner_status</th><th>length_residence</th><th>home_market_value</th><th>num_vehicles</th><th>vehicle_make</th><th>vehicle_model</th><th>vehicle_year</th><th>net_worth</th><th>income</th><th>gender_individual</th><th>age_individual</th><th>education_highest</th><th>occupation_highest</th><th>education_1</th><th>occupation_1</th><th>age_2</th><th>education_2</th><th>occupation_2</th><th>age_3</th><th>education_3</th><th>occupation_3</th><th>age_4</th><th>education_4</th><th>occupation_4</th><th>age_5</th><th>education_5</th><th>occupation_5</th><th>polit_party_regist</th><th>polit_party_input</th><th>household_clusters</th><th>insurance_groups</th><th>financial_groups</th><th>green_living</th></tr></thead><tbody><tr><td>00000015</td><td>2</td><td>2</td><td>1</td><td>000000000000100000000</td><td>S</td><td>B</td><td>null</td><td>null</td><td>0000000000000000000</td><td>000000000000000</td><td>S</td><td>O</td><td>5</td><td>E</td><td>null</td><td>null</td><td>null</td><td>null</td><td>6</td><td>4</td><td>M</td><td>60</td><td>4</td><td>null</td><td>null</td><td>null</td><td>null</td><td>null</td><td>null</td><td>null</td><td>null</td><td>null</td><td>null</td><td>null</td><td>null</td><td>null</td><td>null</td><td>null</td><td>null</td><td>D</td><td>443</td><td>02C3</td><td>08C3</td><td>null</td></tr><tr><td>00000024</td><td>2</td><td>2</td><td>1</td><td>000000000100000000000</td><td>null</td><td>W</td><td>null</td><td>null</td><td>0000000000000000000</td><td>000000000000000</td><td>M</td><td>O</td><td>null</td><td>F</td><td>null</td><td>null</td><td>null</td><td>null</td><td>7</td><td>7</td><td>F</td><td>46</td><td>3</td><td>Z</td><td>null</td><td>null</td><td>null</td><td>null</td><td>null</td><td>null</td><td>null</td><td>null</td><td>null</td><td>null</td><td>null</td><td>null</td><td>null</td><td>null</td><td>null</td><td>R</td><td>223</td><td>09O3</td><td>03O3</td><td>null</td></tr><tr><td>00000026</td><td>null</td><td>null</td><td>null</td><td>000000000000000000000</td><td>null</td><td>null</td><td>null</td><td>null</td><td>0000000000000000000</td><td>000000000000000</td><td>S</td><td>null</td><td>null</td><td>F</td><td>null</td><td>null</td><td>null</td><td>null</td><td>null</td><td>null</td><td>null</td><td>null</td><td>null</td><td>null</td><td>null</td><td>null</td><td>null</td><td>null</td><td>null</td><td>null</td><td>null</td><td>null</td><td>null</td><td>null</td><td>null</td><td>null</td><td>null</td><td>null</td><td>null</td><td>null</td><td>46G</td><td>04CG</td><td>08CG</td><td>null</td></tr><tr><td>00000028</td><td>3</td><td>2</td><td>2</td><td>000000110000000000000</td><td>S</td><td>W</td><td>Y</td><td>1</td><td>0000010000000000000</td><td>000001000000000</td><td>S</td><td>O</td><td>3</td><td>H</td><td>null</td><td>null</td><td>null</td><td>null</td><td>5</td><td>7</td><td>M</td><td>38</td><td>2</td><td>4</td><td>null</td><td>null</td><td>34</td><td>1</td><td>7</td><td>null</td><td>null</td><td>null</td><td>null</td><td>null</td><td>null</td><td>null</td><td>null</td><td>null</td><td>null</td><td>V</td><td>473</td><td>11R3</td><td>09C3</td><td>1</td></tr><tr><td>00000035</td><td>1</td><td>1</td><td>1</td><td>000000000100000000000</td><td>null</td><td>W</td><td>null</td><td>null</td><td>0000000000000000000</td><td>000000000000000</td><td>null</td><td>null</td><td>null</td><td>G</td><td>null</td><td>null</td><td>null</td><td>null</td><td>4</td><td>null</td><td>M</td><td>50</td><td>2</td><td>1</td><td>null</td><td>null</td><td>null</td><td>null</td><td>null</td><td>null</td><td>null</td><td>null</td><td>null</td><td>null</td><td>null</td><td>null</td><td>null</td><td>null</td><td>null</td><td>D</td><td>523</td><td>13C3</td><td>08C3</td><td>null</td></tr><tr><td>00000036</td><td>null</td><td>null</td><td>null</td><td>000000000000000000000</td><td>null</td><td>null</td><td>null</td><td>null</td><td>0000000000000000000</td><td>000000000000000</td><td>null</td><td>null</td><td>null</td><td>G</td><td>null</td><td>null</td><td>null</td><td>null</td><td>null</td><td>null</td><td>null</td><td>null</td><td>null</td><td>null</td><td>null</td><td>null</td><td>null</td><td>null</td><td>null</td><td>null</td><td>null</td><td>null</td><td>null</td><td>null</td><td>null</td><td>null</td><td>null</td><td>null</td><td>null</td><td>null</td><td>51G</td><td>10RG</td><td>10RG</td><td>null</td></tr></tbody></table></div>"
      ]
     },
     "metadata": {
      "application/vnd.databricks.v1+output": {
       "addedWidgets": {},
       "aggData": [],
       "aggError": "",
       "aggOverflow": false,
       "aggSchema": [],
       "aggSeriesLimitReached": false,
       "aggType": "",
       "arguments": {},
       "columnCustomDisplayInfos": {},
       "data": [
        [
         "00000015",
         2,
         2,
         1,
         "000000000000100000000",
         "S",
         "B",
         null,
         null,
         "0000000000000000000",
         "000000000000000",
         "S",
         "O",
         5,
         "E",
         null,
         null,
         null,
         null,
         6,
         "4",
         "M",
         60,
         "4",
         null,
         null,
         null,
         null,
         null,
         null,
         null,
         null,
         null,
         null,
         null,
         null,
         null,
         null,
         null,
         null,
         "D",
         "443",
         "02C3",
         "08C3",
         null
        ],
        [
         "00000024",
         2,
         2,
         1,
         "000000000100000000000",
         null,
         "W",
         null,
         null,
         "0000000000000000000",
         "000000000000000",
         "M",
         "O",
         null,
         "F",
         null,
         null,
         null,
         null,
         7,
         "7",
         "F",
         46,
         "3",
         "Z",
         null,
         null,
         null,
         null,
         null,
         null,
         null,
         null,
         null,
         null,
         null,
         null,
         null,
         null,
         null,
         "R",
         "223",
         "09O3",
         "03O3",
         null
        ],
        [
         "00000026",
         null,
         null,
         null,
         "000000000000000000000",
         null,
         null,
         null,
         null,
         "0000000000000000000",
         "000000000000000",
         "S",
         null,
         null,
         "F",
         null,
         null,
         null,
         null,
         null,
         null,
         null,
         null,
         null,
         null,
         null,
         null,
         null,
         null,
         null,
         null,
         null,
         null,
         null,
         null,
         null,
         null,
         null,
         null,
         null,
         null,
         "46G",
         "04CG",
         "08CG",
         null
        ],
        [
         "00000028",
         3,
         2,
         2,
         "000000110000000000000",
         "S",
         "W",
         "Y",
         1,
         "0000010000000000000",
         "000001000000000",
         "S",
         "O",
         3,
         "H",
         null,
         null,
         null,
         null,
         5,
         "7",
         "M",
         38,
         "2",
         "4",
         null,
         null,
         34,
         "1",
         "7",
         null,
         null,
         null,
         null,
         null,
         null,
         null,
         null,
         null,
         null,
         "V",
         "473",
         "11R3",
         "09C3",
         "1"
        ],
        [
         "00000035",
         1,
         1,
         1,
         "000000000100000000000",
         null,
         "W",
         null,
         null,
         "0000000000000000000",
         "000000000000000",
         null,
         null,
         null,
         "G",
         null,
         null,
         null,
         null,
         4,
         null,
         "M",
         50,
         "2",
         "1",
         null,
         null,
         null,
         null,
         null,
         null,
         null,
         null,
         null,
         null,
         null,
         null,
         null,
         null,
         null,
         "D",
         "523",
         "13C3",
         "08C3",
         null
        ],
        [
         "00000036",
         null,
         null,
         null,
         "000000000000000000000",
         null,
         null,
         null,
         null,
         "0000000000000000000",
         "000000000000000",
         null,
         null,
         null,
         "G",
         null,
         null,
         null,
         null,
         null,
         null,
         null,
         null,
         null,
         null,
         null,
         null,
         null,
         null,
         null,
         null,
         null,
         null,
         null,
         null,
         null,
         null,
         null,
         null,
         null,
         null,
         "51G",
         "10RG",
         "10RG",
         null
        ]
       ],
       "datasetInfos": [],
       "dbfsResultPath": null,
       "isJsonSchema": true,
       "metadata": {},
       "overflow": false,
       "plotOptions": {
        "customPlotOptions": {},
        "displayType": "table",
        "pivotAggregation": null,
        "pivotColumns": null,
        "xColumns": null,
        "yColumns": null
       },
       "removedWidgets": [],
       "schema": [
        {
         "metadata": "{}",
         "name": "household_id",
         "type": "\"string\""
        },
        {
         "metadata": "{}",
         "name": "household_size",
         "type": "\"integer\""
        },
        {
         "metadata": "{}",
         "name": "num_adults",
         "type": "\"integer\""
        },
        {
         "metadata": "{}",
         "name": "num_generations",
         "type": "\"integer\""
        },
        {
         "metadata": "{}",
         "name": "adult_range",
         "type": "\"string\""
        },
        {
         "metadata": "{}",
         "name": "marital_status",
         "type": "\"string\""
        },
        {
         "metadata": "{}",
         "name": "race_code",
         "type": "\"string\""
        },
        {
         "metadata": "{}",
         "name": "presence_children",
         "type": "\"string\""
        },
        {
         "metadata": "{}",
         "name": "num_children",
         "type": "\"integer\""
        },
        {
         "metadata": "{}",
         "name": "age_children",
         "type": "\"string\""
        },
        {
         "metadata": "{}",
         "name": "age_range_children",
         "type": "\"string\""
        },
        {
         "metadata": "{}",
         "name": "dwelling_type",
         "type": "\"string\""
        },
        {
         "metadata": "{}",
         "name": "home_owner_status",
         "type": "\"string\""
        },
        {
         "metadata": "{}",
         "name": "length_residence",
         "type": "\"integer\""
        },
        {
         "metadata": "{}",
         "name": "home_market_value",
         "type": "\"string\""
        },
        {
         "metadata": "{}",
         "name": "num_vehicles",
         "type": "\"integer\""
        },
        {
         "metadata": "{}",
         "name": "vehicle_make",
         "type": "\"string\""
        },
        {
         "metadata": "{}",
         "name": "vehicle_model",
         "type": "\"string\""
        },
        {
         "metadata": "{}",
         "name": "vehicle_year",
         "type": "\"integer\""
        },
        {
         "metadata": "{}",
         "name": "net_worth",
         "type": "\"integer\""
        },
        {
         "metadata": "{}",
         "name": "income",
         "type": "\"string\""
        },
        {
         "metadata": "{}",
         "name": "gender_individual",
         "type": "\"string\""
        },
        {
         "metadata": "{}",
         "name": "age_individual",
         "type": "\"integer\""
        },
        {
         "metadata": "{}",
         "name": "education_highest",
         "type": "\"string\""
        },
        {
         "metadata": "{}",
         "name": "occupation_highest",
         "type": "\"string\""
        },
        {
         "metadata": "{}",
         "name": "education_1",
         "type": "\"string\""
        },
        {
         "metadata": "{}",
         "name": "occupation_1",
         "type": "\"string\""
        },
        {
         "metadata": "{}",
         "name": "age_2",
         "type": "\"integer\""
        },
        {
         "metadata": "{}",
         "name": "education_2",
         "type": "\"string\""
        },
        {
         "metadata": "{}",
         "name": "occupation_2",
         "type": "\"string\""
        },
        {
         "metadata": "{}",
         "name": "age_3",
         "type": "\"integer\""
        },
        {
         "metadata": "{}",
         "name": "education_3",
         "type": "\"string\""
        },
        {
         "metadata": "{}",
         "name": "occupation_3",
         "type": "\"string\""
        },
        {
         "metadata": "{}",
         "name": "age_4",
         "type": "\"integer\""
        },
        {
         "metadata": "{}",
         "name": "education_4",
         "type": "\"string\""
        },
        {
         "metadata": "{}",
         "name": "occupation_4",
         "type": "\"string\""
        },
        {
         "metadata": "{}",
         "name": "age_5",
         "type": "\"integer\""
        },
        {
         "metadata": "{}",
         "name": "education_5",
         "type": "\"string\""
        },
        {
         "metadata": "{}",
         "name": "occupation_5",
         "type": "\"string\""
        },
        {
         "metadata": "{}",
         "name": "polit_party_regist",
         "type": "\"string\""
        },
        {
         "metadata": "{}",
         "name": "polit_party_input",
         "type": "\"string\""
        },
        {
         "metadata": "{}",
         "name": "household_clusters",
         "type": "\"string\""
        },
        {
         "metadata": "{}",
         "name": "insurance_groups",
         "type": "\"string\""
        },
        {
         "metadata": "{}",
         "name": "financial_groups",
         "type": "\"string\""
        },
        {
         "metadata": "{}",
         "name": "green_living",
         "type": "\"string\""
        }
       ],
       "type": "table"
      }
     },
     "output_type": "display_data"
    },
    {
     "output_type": "stream",
     "name": "stdout",
     "output_type": "stream",
     "text": [
      "CPU times: user 304 ms, sys: 15.6 ms, total: 320 ms\nWall time: 23.4 s\n"
     ]
    }
   ],
   "source": [
    "%%time\n",
    "# demographic data filename is 'demographic'\n",
    "demo_df = load_csv_file('demographic', schemas_dict['demographic'])\n",
    "\n",
    "demo_df.printSchema()\n",
    "print(f'demo_df contains {demo_df.count()} records!')\n",
    "display(demo_df.limit(6))"
   ]
  },
  {
   "cell_type": "markdown",
   "metadata": {
    "application/vnd.databricks.v1+cell": {
     "cellMetadata": {
      "byteLimit": 2048000,
      "rowLimit": 10000
     },
     "inputWidgets": {},
     "nuid": "f5a3b3e0-4f11-4d39-828f-73403cd0f495",
     "showTitle": false,
     "title": ""
    }
   },
   "source": [
    "# Read Daily program data"
   ]
  },
  {
   "cell_type": "code",
   "execution_count": 0,
   "metadata": {
    "application/vnd.databricks.v1+cell": {
     "cellMetadata": {
      "byteLimit": 2048000,
      "rowLimit": 10000
     },
     "inputWidgets": {},
     "nuid": "87c5a81b-c642-4e5a-8507-85e052707175",
     "showTitle": false,
     "title": ""
    }
   },
   "outputs": [
    {
     "output_type": "stream",
     "name": "stdout",
     "output_type": "stream",
     "text": [
      "root\n |-- prog_code: string (nullable = true)\n |-- title: string (nullable = true)\n |-- genre: string (nullable = true)\n |-- air_date: string (nullable = true)\n |-- air_time: string (nullable = true)\n |-- Duration: float (nullable = true)\n\ndaily_prog_df contains 13194849 records!\n"
     ]
    },
    {
     "output_type": "display_data",
     "data": {
      "text/html": [
       "<style scoped>\n",
       "  .table-result-container {\n",
       "    max-height: 300px;\n",
       "    overflow: auto;\n",
       "  }\n",
       "  table, th, td {\n",
       "    border: 1px solid black;\n",
       "    border-collapse: collapse;\n",
       "  }\n",
       "  th, td {\n",
       "    padding: 5px;\n",
       "  }\n",
       "  th {\n",
       "    text-align: left;\n",
       "  }\n",
       "</style><div class='table-result-container'><table class='table-result'><thead style='background-color: white'><tr><th>prog_code</th><th>title</th><th>genre</th><th>air_date</th><th>air_time</th><th>Duration</th></tr></thead><tbody><tr><td>EP000000250035</td><td>21 Jump Street</td><td>Crime drama</td><td>20151219</td><td>050000</td><td>60.0</td></tr><tr><td>EP000000250035</td><td>21 Jump Street</td><td>Crime drama</td><td>20151219</td><td>110000</td><td>60.0</td></tr><tr><td>EP000000250063</td><td>21 Jump Street</td><td>Crime drama</td><td>20151219</td><td>180000</td><td>60.0</td></tr><tr><td>EP000000510007</td><td>A Different World</td><td>Sitcom</td><td>20151219</td><td>100000</td><td>30.0</td></tr><tr><td>EP000000510008</td><td>A Different World</td><td>Sitcom</td><td>20151219</td><td>103000</td><td>30.0</td></tr><tr><td>EP000000510159</td><td>A Different World</td><td>Sitcom</td><td>20151219</td><td>080300</td><td>29.0</td></tr></tbody></table></div>"
      ]
     },
     "metadata": {
      "application/vnd.databricks.v1+output": {
       "addedWidgets": {},
       "aggData": [],
       "aggError": "",
       "aggOverflow": false,
       "aggSchema": [],
       "aggSeriesLimitReached": false,
       "aggType": "",
       "arguments": {},
       "columnCustomDisplayInfos": {},
       "data": [
        [
         "EP000000250035",
         "21 Jump Street",
         "Crime drama",
         "20151219",
         "050000",
         60.0
        ],
        [
         "EP000000250035",
         "21 Jump Street",
         "Crime drama",
         "20151219",
         "110000",
         60.0
        ],
        [
         "EP000000250063",
         "21 Jump Street",
         "Crime drama",
         "20151219",
         "180000",
         60.0
        ],
        [
         "EP000000510007",
         "A Different World",
         "Sitcom",
         "20151219",
         "100000",
         30.0
        ],
        [
         "EP000000510008",
         "A Different World",
         "Sitcom",
         "20151219",
         "103000",
         30.0
        ],
        [
         "EP000000510159",
         "A Different World",
         "Sitcom",
         "20151219",
         "080300",
         29.0
        ]
       ],
       "datasetInfos": [],
       "dbfsResultPath": null,
       "isJsonSchema": true,
       "metadata": {},
       "overflow": false,
       "plotOptions": {
        "customPlotOptions": {},
        "displayType": "table",
        "pivotAggregation": null,
        "pivotColumns": null,
        "xColumns": null,
        "yColumns": null
       },
       "removedWidgets": [],
       "schema": [
        {
         "metadata": "{}",
         "name": "prog_code",
         "type": "\"string\""
        },
        {
         "metadata": "{}",
         "name": "title",
         "type": "\"string\""
        },
        {
         "metadata": "{}",
         "name": "genre",
         "type": "\"string\""
        },
        {
         "metadata": "{}",
         "name": "air_date",
         "type": "\"string\""
        },
        {
         "metadata": "{}",
         "name": "air_time",
         "type": "\"string\""
        },
        {
         "metadata": "{}",
         "name": "Duration",
         "type": "\"float\""
        }
       ],
       "type": "table"
      }
     },
     "output_type": "display_data"
    },
    {
     "output_type": "stream",
     "name": "stdout",
     "output_type": "stream",
     "text": [
      "CPU times: user 40.9 ms, sys: 7.41 ms, total: 48.3 ms\nWall time: 12.4 s\n"
     ]
    }
   ],
   "source": [
    "%%time\n",
    "# daily_program data filename is 'Daily program data'\n",
    "daily_prog_df = load_csv_file('Daily program data', schemas_dict['Daily program data'])\n",
    "\n",
    "daily_prog_df.printSchema()\n",
    "print(f'daily_prog_df contains {daily_prog_df.count()} records!')\n",
    "display(daily_prog_df.limit(6))"
   ]
  },
  {
   "cell_type": "markdown",
   "metadata": {
    "application/vnd.databricks.v1+cell": {
     "cellMetadata": {
      "byteLimit": 2048000,
      "rowLimit": 10000
     },
     "inputWidgets": {},
     "nuid": "2155f591-6717-4faf-9a31-37fee9e14b0d",
     "showTitle": false,
     "title": ""
    }
   },
   "source": [
    "# Read viewing data"
   ]
  },
  {
   "cell_type": "code",
   "execution_count": 0,
   "metadata": {
    "application/vnd.databricks.v1+cell": {
     "cellMetadata": {
      "byteLimit": 2048000,
      "rowLimit": 10000
     },
     "inputWidgets": {},
     "nuid": "e07c7390-51d7-473c-abb7-43e9430a8c19",
     "showTitle": false,
     "title": ""
    }
   },
   "outputs": [
    {
     "output_type": "display_data",
     "data": {
      "text/html": [
       "<style scoped>\n",
       "  .table-result-container {\n",
       "    max-height: 300px;\n",
       "    overflow: auto;\n",
       "  }\n",
       "  table, th, td {\n",
       "    border: 1px solid black;\n",
       "    border-collapse: collapse;\n",
       "  }\n",
       "  th, td {\n",
       "    padding: 5px;\n",
       "  }\n",
       "  th {\n",
       "    text-align: left;\n",
       "  }\n",
       "</style><div class='table-result-container'><table class='table-result'><thead style='background-color: white'><tr><th>mso_code</th><th>device_id</th><th>event_date</th><th>event_time</th><th>station_num</th><th>prog_code</th></tr></thead><tbody><tr><td>01540</td><td>000000033afa</td><td>20151101</td><td>33000</td><td>67375</td><td>EP020820940009</td></tr><tr><td>01540</td><td>00000004e4b6</td><td>20151101</td><td>93000</td><td>42599</td><td>SP003189620000</td></tr><tr><td>01540</td><td>00000004eb8f</td><td>20151101</td><td>91856</td><td>42642</td><td>EP000176170270</td></tr><tr><td>01540</td><td>00000004f1d6</td><td>20151101</td><td>90206</td><td>68827</td><td>EP007961190099</td></tr><tr><td>01540</td><td>00000004f3c0</td><td>20151101</td><td>160658</td><td>10178</td><td>MV000259670000</td></tr><tr><td>01540</td><td>000000051ca0</td><td>20151101</td><td>174949</td><td>32645</td><td>EP001786120664</td></tr></tbody></table></div>"
      ]
     },
     "metadata": {
      "application/vnd.databricks.v1+output": {
       "addedWidgets": {},
       "aggData": [],
       "aggError": "",
       "aggOverflow": false,
       "aggSchema": [],
       "aggSeriesLimitReached": false,
       "aggType": "",
       "arguments": {},
       "columnCustomDisplayInfos": {},
       "data": [
        [
         "01540",
         "000000033afa",
         20151101,
         33000,
         "67375",
         "EP020820940009"
        ],
        [
         "01540",
         "00000004e4b6",
         20151101,
         93000,
         "42599",
         "SP003189620000"
        ],
        [
         "01540",
         "00000004eb8f",
         20151101,
         91856,
         "42642",
         "EP000176170270"
        ],
        [
         "01540",
         "00000004f1d6",
         20151101,
         90206,
         "68827",
         "EP007961190099"
        ],
        [
         "01540",
         "00000004f3c0",
         20151101,
         160658,
         "10178",
         "MV000259670000"
        ],
        [
         "01540",
         "000000051ca0",
         20151101,
         174949,
         "32645",
         "EP001786120664"
        ]
       ],
       "datasetInfos": [],
       "dbfsResultPath": null,
       "isJsonSchema": true,
       "metadata": {},
       "overflow": false,
       "plotOptions": {
        "customPlotOptions": {},
        "displayType": "table",
        "pivotAggregation": null,
        "pivotColumns": null,
        "xColumns": null,
        "yColumns": null
       },
       "removedWidgets": [],
       "schema": [
        {
         "metadata": "{}",
         "name": "mso_code",
         "type": "\"string\""
        },
        {
         "metadata": "{}",
         "name": "device_id",
         "type": "\"string\""
        },
        {
         "metadata": "{}",
         "name": "event_date",
         "type": "\"integer\""
        },
        {
         "metadata": "{}",
         "name": "event_time",
         "type": "\"integer\""
        },
        {
         "metadata": "{}",
         "name": "station_num",
         "type": "\"string\""
        },
        {
         "metadata": "{}",
         "name": "prog_code",
         "type": "\"string\""
        }
       ],
       "type": "table"
      }
     },
     "output_type": "display_data"
    },
    {
     "output_type": "stream",
     "name": "stdout",
     "output_type": "stream",
     "text": [
      "viewing10m_df contains 10042340 rows!\n"
     ]
    }
   ],
   "source": [
    "# Sample of 10 Million viewing entries\n",
    "\n",
    "dataPath = f\"dbfs:/viewing_10M\"\n",
    "viewing10m_df = spark.read.format(\"csv\")\\\n",
    "    .option(\"header\",\"true\")\\\n",
    "    .option(\"delimiter\",\",\")\\\n",
    "    .schema(schemas_dict['viewing_full'])\\\n",
    "    .load(dataPath)\n",
    "\n",
    "display(viewing10m_df.limit(6))\n",
    "print(f'viewing10m_df contains {viewing10m_df.count()} rows!')"
   ]
  },
  {
   "cell_type": "markdown",
   "metadata": {
    "application/vnd.databricks.v1+cell": {
     "cellMetadata": {
      "byteLimit": 2048000,
      "rowLimit": 10000
     },
     "inputWidgets": {},
     "nuid": "78d1c4d8-2a86-494e-ab01-f96fdd0cb019",
     "showTitle": false,
     "title": ""
    }
   },
   "source": [
    "# Read reference data"
   ]
  },
  {
   "cell_type": "code",
   "execution_count": 0,
   "metadata": {
    "application/vnd.databricks.v1+cell": {
     "cellMetadata": {
      "byteLimit": 2048000,
      "rowLimit": 10000
     },
     "inputWidgets": {},
     "nuid": "59ad090a-c8c9-45ca-877c-cef384caa9c6",
     "showTitle": false,
     "title": ""
    }
   },
   "outputs": [
    {
     "output_type": "stream",
     "name": "stdout",
     "output_type": "stream",
     "text": [
      "root\n |-- device_id: string (nullable = true)\n |-- dma: string (nullable = true)\n |-- dma_code: long (nullable = true)\n |-- household_id: long (nullable = true)\n |-- household_type: string (nullable = true)\n |-- system_type: string (nullable = true)\n |-- zipcode: long (nullable = true)\n\nref_df contains 1268071 records!\n"
     ]
    },
    {
     "output_type": "display_data",
     "data": {
      "text/html": [
       "<style scoped>\n",
       "  .table-result-container {\n",
       "    max-height: 300px;\n",
       "    overflow: auto;\n",
       "  }\n",
       "  table, th, td {\n",
       "    border: 1px solid black;\n",
       "    border-collapse: collapse;\n",
       "  }\n",
       "  th, td {\n",
       "    padding: 5px;\n",
       "  }\n",
       "  th {\n",
       "    text-align: left;\n",
       "  }\n",
       "</style><div class='table-result-container'><table class='table-result'><thead style='background-color: white'><tr><th>device_id</th><th>dma</th><th>dma_code</th><th>household_id</th><th>household_type</th><th>system_type</th><th>zipcode</th></tr></thead><tbody><tr><td>00000113498f</td><td>Toledo</td><td>547</td><td>1470605</td><td>FWM-ID</td><td>H</td><td>43460</td></tr><tr><td>12bf0065bad0</td><td>Toledo</td><td>547</td><td>1492575</td><td>FWM-ID</td><td>H</td><td>43460</td></tr><tr><td>000000797c1d</td><td>Toledo</td><td>547</td><td>1493317</td><td>FWM-ID</td><td>H</td><td>43460</td></tr><tr><td>000002de361c</td><td>Toledo</td><td>547</td><td>1446566</td><td>FWM-ID</td><td>H</td><td>43528</td></tr><tr><td>0000026360a2</td><td>Toledo</td><td>547</td><td>1467668</td><td>FWM-ID</td><td>H</td><td>43528</td></tr><tr><td>00000071622f</td><td>Toledo</td><td>547</td><td>1519598</td><td>FWM-ID</td><td>H</td><td>43528</td></tr></tbody></table></div>"
      ]
     },
     "metadata": {
      "application/vnd.databricks.v1+output": {
       "addedWidgets": {},
       "aggData": [],
       "aggError": "",
       "aggOverflow": false,
       "aggSchema": [],
       "aggSeriesLimitReached": false,
       "aggType": "",
       "arguments": {},
       "columnCustomDisplayInfos": {},
       "data": [
        [
         "00000113498f",
         "Toledo",
         547,
         1470605,
         "FWM-ID",
         "H",
         43460
        ],
        [
         "12bf0065bad0",
         "Toledo",
         547,
         1492575,
         "FWM-ID",
         "H",
         43460
        ],
        [
         "000000797c1d",
         "Toledo",
         547,
         1493317,
         "FWM-ID",
         "H",
         43460
        ],
        [
         "000002de361c",
         "Toledo",
         547,
         1446566,
         "FWM-ID",
         "H",
         43528
        ],
        [
         "0000026360a2",
         "Toledo",
         547,
         1467668,
         "FWM-ID",
         "H",
         43528
        ],
        [
         "00000071622f",
         "Toledo",
         547,
         1519598,
         "FWM-ID",
         "H",
         43528
        ]
       ],
       "datasetInfos": [],
       "dbfsResultPath": null,
       "isJsonSchema": true,
       "metadata": {},
       "overflow": false,
       "plotOptions": {
        "customPlotOptions": {},
        "displayType": "table",
        "pivotAggregation": null,
        "pivotColumns": null,
        "xColumns": null,
        "yColumns": null
       },
       "removedWidgets": [],
       "schema": [
        {
         "metadata": "{}",
         "name": "device_id",
         "type": "\"string\""
        },
        {
         "metadata": "{}",
         "name": "dma",
         "type": "\"string\""
        },
        {
         "metadata": "{}",
         "name": "dma_code",
         "type": "\"long\""
        },
        {
         "metadata": "{}",
         "name": "household_id",
         "type": "\"long\""
        },
        {
         "metadata": "{}",
         "name": "household_type",
         "type": "\"string\""
        },
        {
         "metadata": "{}",
         "name": "system_type",
         "type": "\"string\""
        },
        {
         "metadata": "{}",
         "name": "zipcode",
         "type": "\"long\""
        }
       ],
       "type": "table"
      }
     },
     "output_type": "display_data"
    },
    {
     "output_type": "stream",
     "name": "stdout",
     "output_type": "stream",
     "text": [
      "CPU times: user 13 ms, sys: 804 µs, total: 13.8 ms\nWall time: 5.05 s\n"
     ]
    }
   ],
   "source": [
    "%%time\n",
    "# reference data is stored in parquet for your convinence.\n",
    "\n",
    "ref_df = spark.read.parquet('dbfs:/refxml_new_parquet')\n",
    "\n",
    "ref_df.printSchema()\n",
    "print(f'ref_df contains {ref_df.count()} records!')\n",
    "display(ref_df.limit(6))"
   ]
  },
  {
   "cell_type": "markdown",
   "metadata": {
    "application/vnd.databricks.v1+cell": {
     "cellMetadata": {
      "byteLimit": 2048000,
      "rowLimit": 10000
     },
     "inputWidgets": {},
     "nuid": "059b628b-9f45-431e-9498-12796a0827a5",
     "showTitle": false,
     "title": ""
    }
   },
   "source": [
    "# **Part 2**"
   ]
  },
  {
   "cell_type": "markdown",
   "metadata": {
    "application/vnd.databricks.v1+cell": {
     "cellMetadata": {
      "byteLimit": 2048000,
      "rowLimit": 10000
     },
     "inputWidgets": {},
     "nuid": "192659c3-a4ff-4683-9b1e-ad6fd143314d",
     "showTitle": false,
     "title": ""
    }
   },
   "source": [
    "### Section 1"
   ]
  },
  {
   "cell_type": "code",
   "execution_count": 0,
   "metadata": {
    "application/vnd.databricks.v1+cell": {
     "cellMetadata": {
      "byteLimit": 2048000,
      "rowLimit": 10000
     },
     "inputWidgets": {},
     "nuid": "9b99e10f-d630-4e67-8094-27b42f91b233",
     "showTitle": false,
     "title": ""
    }
   },
   "outputs": [
    {
     "output_type": "stream",
     "name": "stdout",
     "output_type": "stream",
     "text": [
      "### Top 10 DMAs by their popularity ###\n+--------------------------+-----+\n|dma                       |count|\n+--------------------------+-----+\n|Wilkes Barre-Scranton-Hztn|26194|\n|Charleston-Huntington     |25987|\n|Seattle-Tacoma            |18890|\n|Little Rock-Pine Bluff    |18377|\n|Washington, DC (Hagrstwn) |18068|\n|Toledo                    |15822|\n|Amarillo                  |15728|\n|Greenville-N.Bern-Washngtn|14397|\n|Bend, OR                  |14089|\n|Lubbock                   |13087|\n+--------------------------+-----+\n\n"
     ]
    }
   ],
   "source": [
    "from pyspark.sql.functions import col, explode, split, desc, count, avg, max as max_, lit, row_number\n",
    "import re\n",
    "\n",
    "# Load the daily program data with relevant columns - for calculating per \"genre\" \n",
    "daily_program_data = load_csv_file('Daily program data', schemas_dict['Daily program data'])\\\n",
    "    .select(\"prog_code\", \"genre\")\n",
    "\n",
    "# Load the viewing data with relevant columns- for calculating the amount of viewing entries by \"prog_code\" (popularity)\n",
    "viewing_data = spark.read.format(\"csv\")\\\n",
    "    .option(\"header\", \"true\")\\\n",
    "    .option(\"delimiter\", \",\")\\\n",
    "    .schema(schemas_dict['viewing_full'])\\\n",
    "    .load(\"dbfs:/viewing_10M\")\\\n",
    "    .select(\"device_id\", \"prog_code\")\n",
    "\n",
    "# Load the reference data with relevant columns - for calcuating the amount of devices per DMA, and \"household_id\" for section 2\n",
    "# dropDuplicates on \"device_id\" so that device_id won't belong for different DMAs\n",
    "reference_data = spark.read.parquet('dbfs:/refxml_new_parquet')\\\n",
    "    .select(\"household_id\", \"device_id\", \"dma\").dropDuplicates([\"device_id\"])\n",
    "\n",
    "# Filter out 'Unknown' DMA and get the top 10 largest DMAs by the number of devices\n",
    "top_dmas = reference_data.filter(col(\"dma\") != \"Unknown\").groupBy(\"dma\").count().orderBy(desc(\"count\")).limit(10)\n",
    "\n",
    "# Display the top 10 DMAs by the count of devices\n",
    "print(\"### Top 10 DMAs by their popularity ###\")\n",
    "top_dmas.show(10, truncate=False)"
   ]
  },
  {
   "cell_type": "code",
   "execution_count": 0,
   "metadata": {
    "application/vnd.databricks.v1+cell": {
     "cellMetadata": {
      "byteLimit": 2048000,
      "rowLimit": 10000
     },
     "inputWidgets": {},
     "nuid": "0ae85347-3aae-41c3-acae-349b70e2ef8a",
     "showTitle": false,
     "title": ""
    }
   },
   "outputs": [
    {
     "output_type": "stream",
     "name": "stdout",
     "output_type": "stream",
     "text": [
      "### Top 10 genres for Wilkes Barre-Scranton-Hztn (DMA #1) ###\n+-----------+---------------+\n|genre      |viewing_entries|\n+-----------+---------------+\n|Reality    |45288          |\n|News       |43819          |\n|Sitcom     |28154          |\n|Talk       |24198          |\n|Comedy     |23702          |\n|Crime drama|21126          |\n|Documentary|20830          |\n|Drama      |20508          |\n|Children   |20481          |\n|Action     |18773          |\n+-----------+---------------+\nonly showing top 10 rows\n\n### Top 10 genres for Washington, DC (Hagrstwn) (DMA #5) ###\n+-----------+---------------+\n|genre      |viewing_entries|\n+-----------+---------------+\n|Reality    |14641          |\n|News       |11583          |\n|Sitcom     |10062          |\n|Comedy     |8448           |\n|Children   |7508           |\n|Drama      |7307           |\n|Talk       |6917           |\n|Animated   |6593           |\n|Documentary|6210           |\n|Adventure  |6098           |\n+-----------+---------------+\nonly showing top 10 rows\n\n### Top 10 genres for Bend, OR (DMA #9) ###\n+------------+---------------+\n|genre       |viewing_entries|\n+------------+---------------+\n|News        |21345          |\n|Reality     |20222          |\n|Talk        |14481          |\n|Sitcom      |13264          |\n|Comedy      |10461          |\n|Documentary |8478           |\n|Crime drama |8056           |\n|Sports event|7906           |\n|Drama       |7843           |\n|Children    |7601           |\n+------------+---------------+\nonly showing top 10 rows\n\n"
     ]
    }
   ],
   "source": [
    "# dropDuplicates ensures that the views are counted correctly\n",
    "joined_data = viewing_data.join(reference_data, on=\"device_id\").dropDuplicates()\n",
    "# Use cache because we access \"final_joined_data\" multipe times (in section2 also)\n",
    "final_joined_data = joined_data.join(daily_program_data, on=\"prog_code\").dropDuplicates().cache()\n",
    "\n",
    "# We use collect on small data - size 10 (rows)\n",
    "top_dmas_list = [row[\"dma\"] for row in top_dmas.collect()]\n",
    "\n",
    "# Process each DMA for popularity calculations\n",
    "def process_dma_popularity(dma_name, index):\n",
    "    # Filter the data for the current DMA\n",
    "    dma_data = final_joined_data.filter(col(\"dma\") == dma_name)\n",
    "    \n",
    "    # Process genres and calculate the amount of viewing entries\n",
    "    genre_popularity = (dma_data.withColumn(\"genre\", explode(split(col(\"genre\"), \",\")))\n",
    "                        .groupBy(\"genre\")\n",
    "                        .agg(count(\"*\").alias(\"viewing_entries\"))\n",
    "                        .orderBy(desc(\"viewing_entries\")))\n",
    "    \n",
    "    clean_dma_name = re.sub(r'[^a-zA-Z0-9_]', '', dma_name.replace(' ', '_'))\n",
    "    \n",
    "    file_name = f\"dbfs:/project1_part21_{clean_dma_name}_{index + 1}.csv\"\n",
    "    genre_popularity.coalesce(1).write.csv(file_name, header=True, mode=\"overwrite\")\n",
    "    \n",
    "    if index in [0, 4, 8]:\n",
    "        print(f\"### Top 10 genres for {dma_name} (DMA #{index + 1}) ###\")\n",
    "        genre_popularity.show(10, truncate=False)\n",
    "\n",
    "# Process each DMA\n",
    "for i, dma in enumerate(top_dmas_list):\n",
    "    process_dma_popularity(dma, i)"
   ]
  },
  {
   "cell_type": "markdown",
   "metadata": {
    "application/vnd.databricks.v1+cell": {
     "cellMetadata": {
      "byteLimit": 2048000,
      "rowLimit": 10000
     },
     "inputWidgets": {},
     "nuid": "d8e9ccaa-5583-4530-b352-820effd8e355",
     "showTitle": false,
     "title": ""
    }
   },
   "source": [
    "### Section 2"
   ]
  },
  {
   "cell_type": "code",
   "execution_count": 0,
   "metadata": {
    "application/vnd.databricks.v1+cell": {
     "cellMetadata": {
      "byteLimit": 2048000,
      "rowLimit": 10000
     },
     "inputWidgets": {},
     "nuid": "7052a868-6909-4349-9c63-3db51a53a921",
     "showTitle": false,
     "title": ""
    }
   },
   "outputs": [
    {
     "output_type": "stream",
     "name": "stdout",
     "output_type": "stream",
     "text": [
      "### Wealth Scores for Top 10 Wealthiest DMAs ###\n+--------------------------+------------------+\n|dma                       |wealth_score      |\n+--------------------------+------------------+\n|Baltimore                 |1.8193436021744103|\n|Detroit                   |1.790698693186139 |\n|Harrisburg-Lncstr-Leb-York|1.7885865088862474|\n|Philadelphia              |1.7739939468542412|\n|Austin                    |1.7358633028080743|\n|Seattle-Tacoma            |1.7316265247806404|\n|Cleveland-Akron (Canton)  |1.7008619699205387|\n|San Francisco-Oak-San Jose|1.6916567123042754|\n|Lexington                 |1.6761166393298799|\n|Sacramnto-Stkton-Modesto  |1.6640426998018105|\n+--------------------------+------------------+\n\n"
     ]
    }
   ],
   "source": [
    "from pyspark.sql.functions import col, when\n",
    "\n",
    "# Load the demographic data with relevant columns\n",
    "# dropDuplicates on \"household_id\" to ensure that each household's net worth and income are counted only once\n",
    "demographic_data = (\n",
    "    load_csv_file(\"demographic\", schemas_dict[\"demographic\"])\n",
    "    .select(\"household_id\", \"net_worth\", \"income\")\n",
    "    .dropDuplicates([\"household_id\"])\n",
    ")\n",
    "\n",
    "demographic_data = demographic_data.withColumn(\n",
    "    \"income\",\n",
    "    when(col(\"income\").isNull(), 0).otherwise(col(\"income\")).cast(\"double\")\n",
    ")\n",
    "\n",
    "# There might be multiple entries for the same household_id after the join. The dropDuplicates prevents duplicate entries from skewing the calculations\n",
    "demographic_data = demographic_data.join(reference_data, on=\"household_id\").dropDuplicates([\"household_id\"])\n",
    "\n",
    "# Calculate the average net worth and income per DMA\n",
    "dma_wealth = (\n",
    "    demographic_data.groupBy(\"dma\")\n",
    "    .agg(avg(\"net_worth\").alias(\"avg_net_worth\"), avg(\"income\").alias(\"avg_income\"))\n",
    ")\n",
    "\n",
    "# Calculate the maximum net worth and income across all DMAs\n",
    "# We use collect on small data - size 2 (columns)\n",
    "max_values = dma_wealth.agg(\n",
    "    max_(\"avg_net_worth\").alias(\"max_net_worth\"), max_(\"avg_income\").alias(\"max_income\")\n",
    ").collect()\n",
    "\n",
    "max_net_worth = max_values[0][\"max_net_worth\"]\n",
    "max_income = max_values[0][\"max_income\"]\n",
    "\n",
    "# Calculate wealth score for each DMA\n",
    "dma_wealth = dma_wealth.withColumn(\n",
    "    \"wealth_score\",\n",
    "    (col(\"avg_net_worth\") / lit(max_net_worth)) + (col(\"avg_income\") / lit(max_income)),\n",
    ")\n",
    "\n",
    "# Filter out 'Unknown' DMA and get the top 10 wealthiest DMAs\n",
    "top_wealthiest_dmas = (\n",
    "    dma_wealth.filter(col(\"dma\") != \"Unknown\").orderBy(desc(\"wealth_score\")).limit(10)\n",
    ")\n",
    "\n",
    "# Display the wealth scores for the top 10 DMAs\n",
    "print(\"### Wealth Scores for Top 10 Wealthiest DMAs ###\")\n",
    "top_wealthiest_dmas.select(\"dma\", \"wealth_score\").show(10, truncate=False)"
   ]
  },
  {
   "cell_type": "code",
   "execution_count": 0,
   "metadata": {
    "application/vnd.databricks.v1+cell": {
     "cellMetadata": {
      "byteLimit": 2048000,
      "rowLimit": 10000
     },
     "inputWidgets": {},
     "nuid": "c486c277-952c-44e5-a58f-a9c8498abd9c",
     "showTitle": false,
     "title": ""
    }
   },
   "outputs": [
    {
     "output_type": "stream",
     "name": "stdout",
     "output_type": "stream",
     "text": [
      "### Top 11 genres for Baltimore (DMA #1) ###\n+------------+---------------+\n|genre       |viewing_entries|\n+------------+---------------+\n|News        |4575           |\n|Reality     |3898           |\n|Talk        |2808           |\n|Comedy      |2494           |\n|Sitcom      |2346           |\n|Drama       |1890           |\n|Action      |1743           |\n|Adventure   |1709           |\n|Children    |1708           |\n|Sports event|1681           |\n|Documentary |1656           |\n+------------+---------------+\nonly showing top 11 rows\n\n### Top 11 genres for Austin (DMA #5) ###\n+--------------+---------------+\n|genre         |viewing_entries|\n+--------------+---------------+\n|Bus./financial|958            |\n|Golf          |895            |\n|Science       |869            |\n|Romance       |855            |\n|Religious     |849            |\n|Animals       |773            |\n|Medical       |773            |\n|Paranormal    |744            |\n|Soap          |702            |\n|How-to        |655            |\n|Auto          |647            |\n+--------------+---------------+\nonly showing top 11 rows\n\n### Top 11 genres for Lexington (DMA #9) ###\n+------------+---------------+\n|genre       |viewing_entries|\n+------------+---------------+\n|Horse       |95             |\n|Adults only |51             |\n|Awards      |42             |\n|Martial arts|40             |\n|Aviation    |39             |\n|Military    |33             |\n|Agriculture |33             |\n|Parenting   |30             |\n|Debate      |24             |\n|Softball    |20             |\n|Poker       |13             |\n+------------+---------------+\nonly showing top 11 rows\n\n+--------------------------+------------------+----------------------------------------------------------------------------------------------------------------------------------------+\n|DMA NAME                  |WEALTH SCORE      |ORDERED LIST OF GENRES                                                                                                                  |\n+--------------------------+------------------+----------------------------------------------------------------------------------------------------------------------------------------+\n|Baltimore                 |1.8146236782211438|News, Reality, Talk, Comedy, Sitcom, Drama, Action, Adventure, Children, Sports event, Documentary                                      |\n|Detroit                   |1.7997102227407233|Crime drama, Sports non-event, Animated, House/garden, Entertainment, Football, Mystery, Fantasy, Newsmagazine, Consumer, Crime         |\n|Philadelphia              |1.7924695412138136|Special, Suspense, Music, Game show, Cooking, Sports talk, Shopping, Outdoors, Science fiction, Educational, Law                        |\n|Harrisburg-Lncstr-Leb-York|1.7881561969740338|Baseball, Travel, History, Horror, Public affairs, Home improvement, Playoff sports, Politics, Interview, Basketball, Western           |\n|Austin                    |1.729173477741536 |Bus./financial, Golf, Science, Romance, Religious, Animals, Medical, Paranormal, Soap, How-to, Auto                                     |\n|Seattle-Tacoma            |1.7244685665214214|Nature, Romance-comedy, Comedy-drama, Health, Fashion, Docudrama, War, Variety, Community, Auto racing, Weather                         |\n|Cleveland-Akron (Canton)  |1.7071736589961146|Hunting, Collectibles, Anthology, Tennis, Pro wrestling, Auction, Dance, Biography, Historical drama, Musical, Mixed martial arts       |\n|San Francisco-Oak-San Jose|1.684728346465968 |Spanish, Musical comedy, Soccer, Fishing, Standup, Art, Anime, Hockey, Boxing, Action sports, Technology                                |\n|Lexington                 |1.6798204288407437|Horse, Adults only, Awards, Martial arts, Aviation, Military, Agriculture, Parenting, Debate, Softball, Poker                           |\n|Sacramnto-Stkton-Modesto  |1.668289917678964 |Card games, Self improvement, Exercise, Event, Bicycle racing, Volleyball, Environment, Parade, Wrestling, Motorcycle racing, Miniseries|\n+--------------------------+------------------+----------------------------------------------------------------------------------------------------------------------------------------+\n\n"
     ]
    }
   ],
   "source": [
    "# We use collect on small data - size 10 (rows)\n",
    "top_wealthiest_dmas_list = [row[\"dma\"] for row in top_wealthiest_dmas.collect()]\n",
    "\n",
    "final_output = []\n",
    "\n",
    "# Process each DMA for wealth calculations\n",
    "def process_dma_wealth(dma_name, index, used_genres, wealth_score):\n",
    "    # Filter the data for the current DMA\n",
    "    dma_data = final_joined_data.filter(col(\"dma\") == dma_name)\n",
    "\n",
    "    # Process genres and calculate the amount of viewing entries\n",
    "    genre_popularity = (\n",
    "        dma_data.withColumn(\"genre\", explode(split(col(\"genre\"), \",\")))\n",
    "        .groupBy(\"genre\")\n",
    "        .agg(count(\"*\").alias(\"viewing_entries\"))\n",
    "        .orderBy(desc(\"viewing_entries\"))\n",
    "    )\n",
    "\n",
    "    # Remove already used genres\n",
    "    genre_popularity = genre_popularity.filter(~col(\"genre\").isin(used_genres))\n",
    "\n",
    "    # Collects the top 11 genres (11 rows)\n",
    "    top_genres = [row[\"genre\"] for row in genre_popularity.limit(11).collect()]\n",
    "\n",
    "    # Add top genres to used genres\n",
    "    used_genres.extend(top_genres)\n",
    "\n",
    "    # Convert the list of genres to a single string \n",
    "    top_genres_str = \", \".join(top_genres)\n",
    "\n",
    "    final_output.append((dma_name, wealth_score, top_genres_str))\n",
    "\n",
    "    # Display the top 11 genres for requested indexes\n",
    "    if index in [0, 4, 8]:\n",
    "        print(f\"### Top 11 genres for {dma_name} (DMA #{index + 1}) ###\")\n",
    "        genre_popularity.show(11, truncate=False)\n",
    "\n",
    "# Iterate over the top DMAs and process them\n",
    "used_genres = []\n",
    "for i, dma_row in enumerate(top_wealthiest_dmas.collect()):\n",
    "    dma_name = dma_row[\"dma\"]\n",
    "    wealth_score = dma_row[\"wealth_score\"]\n",
    "    process_dma_wealth(dma_name, i, used_genres, wealth_score)\n",
    "\n",
    "# Convert final output to DataFrame \n",
    "final_df = spark.createDataFrame(final_output, [\"DMA NAME\", \"WEALTH SCORE\", \"ORDERED LIST OF GENRES\"])\n",
    "\n",
    "final_df.show(truncate=False)\n",
    "\n",
    "for i, row in enumerate(final_output):\n",
    "    dma_name, wealth_score, genres = row\n",
    "    clean_dma_name = re.sub(r\"[^a-zA-Z0-9_]\", \"\", dma_name.replace(\" \", \"_\"))\n",
    "    file_name = f\"dbfs:/project1_part22_{clean_dma_name}_{i + 1}.csv\"\n",
    "    single_row_df = spark.createDataFrame([(dma_name, wealth_score, genres)], [\"DMA NAME\", \"WEALTH SCORE\", \"ORDERED LIST OF GENRES\"])\n",
    "    single_row_df.coalesce(1).write.csv(file_name, header=True, mode=\"overwrite\")"
   ]
  }
 ],
 "metadata": {
  "application/vnd.databricks.v1+notebook": {
   "dashboards": [],
   "environmentMetadata": null,
   "language": "python",
   "notebookMetadata": {
    "pythonIndentUnit": 4
   },
   "notebookName": "project1_part2_212895171_211569637",
   "widgets": {}
  }
 },
 "nbformat": 4,
 "nbformat_minor": 0
}
