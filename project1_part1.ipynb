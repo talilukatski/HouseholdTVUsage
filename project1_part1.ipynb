{
 "cells": [
  {
   "cell_type": "code",
   "execution_count": 0,
   "metadata": {
    "application/vnd.databricks.v1+cell": {
     "cellMetadata": {
      "byteLimit": 2048000,
      "rowLimit": 10000
     },
     "inputWidgets": {},
     "nuid": "c43a335f-67c7-428b-b42b-8e6f26ff89f3",
     "showTitle": false,
     "title": ""
    }
   },
   "outputs": [],
   "source": [
    "from pyspark.sql.types import *\n",
    "import pyspark.sql.functions as f\n",
    "\n",
    "from pyspark import SparkContext\n",
    "from pyspark.sql import SparkSession\n",
    " \n",
    "spark = SparkSession.builder.appName(\"my_project_1\").getOrCreate()\n",
    "sc = spark.sparkContext"
   ]
  },
  {
   "cell_type": "code",
   "execution_count": 0,
   "metadata": {
    "application/vnd.databricks.v1+cell": {
     "cellMetadata": {
      "byteLimit": 2048000,
      "rowLimit": 10000
     },
     "inputWidgets": {},
     "nuid": "cf89fd53-aee7-44e9-8139-ddb05b42458c",
     "showTitle": false,
     "title": ""
    }
   },
   "outputs": [],
   "source": [
    "# Read a CSV into a dataframe\n",
    "# There is a smarter version, that will first check if there is a Parquet file and use it\n",
    "def load_csv_file(filename, schema):\n",
    "  # Reads the relevant file from distributed file system using the given schema\n",
    "\n",
    "  allowed_files = {'Daily program data': ('Daily program data', \"|\"),\n",
    "                   'demographic': ('demographic', \"|\")}\n",
    "\n",
    "  if filename not in allowed_files.keys():\n",
    "    print(f'You were trying to access unknown file \\\"{filename}\\\". Only valid options are {allowed_files.keys()}')\n",
    "    return None\n",
    "\n",
    "  filepath = allowed_files[filename][0]\n",
    "  dataPath = f\"dbfs:/mnt/coursedata2024/fwm-stb-data/{filepath}\"\n",
    "  delimiter = allowed_files[filename][1]\n",
    "\n",
    "  df = spark.read.format(\"csv\")\\\n",
    "    .option(\"header\",\"false\")\\\n",
    "    .option(\"delimiter\",delimiter)\\\n",
    "    .schema(schema)\\\n",
    "    .load(dataPath)\n",
    "  return df\n",
    "\n",
    "# This dict holds the correct schemata for easily loading the CSVs\n",
    "schemas_dict = {'Daily program data':\n",
    "                  StructType([\n",
    "                    StructField('prog_code', StringType()),\n",
    "                    StructField('title', StringType()),\n",
    "                    StructField('genre', StringType()),\n",
    "                    StructField('air_date', StringType()),\n",
    "                    StructField('air_time', StringType()),\n",
    "                    StructField('Duration', FloatType())\n",
    "                  ]),\n",
    "                'viewing':\n",
    "                  StructType([\n",
    "                    StructField('device_id', StringType()),\n",
    "                    StructField('event_date', StringType()),\n",
    "                    StructField('event_time', IntegerType()),\n",
    "                    StructField('mso_code', StringType()),\n",
    "                    StructField('prog_code', StringType()),\n",
    "                    StructField('station_num', StringType())\n",
    "                  ]),\n",
    "                'viewing_full':\n",
    "                  StructType([\n",
    "                    StructField('mso_code', StringType()),\n",
    "                    StructField('device_id', StringType()),\n",
    "                    StructField('event_date', IntegerType()),\n",
    "                    StructField('event_time', IntegerType()),\n",
    "                    StructField('station_num', StringType()),\n",
    "                    StructField('prog_code', StringType())\n",
    "                  ]),\n",
    "                'demographic':\n",
    "                  StructType([StructField('household_id',StringType()),\n",
    "                    StructField('household_size',IntegerType()),\n",
    "                    StructField('num_adults',IntegerType()),\n",
    "                    StructField('num_generations',IntegerType()),\n",
    "                    StructField('adult_range',StringType()),\n",
    "                    StructField('marital_status',StringType()),\n",
    "                    StructField('race_code',StringType()),\n",
    "                    StructField('presence_children',StringType()),\n",
    "                    StructField('num_children',IntegerType()),\n",
    "                    StructField('age_children',StringType()), #format like range - 'bitwise'\n",
    "                    StructField('age_range_children',StringType()),\n",
    "                    StructField('dwelling_type',StringType()),\n",
    "                    StructField('home_owner_status',StringType()),\n",
    "                    StructField('length_residence',IntegerType()),\n",
    "                    StructField('home_market_value',StringType()),\n",
    "                    StructField('num_vehicles',IntegerType()),\n",
    "                    StructField('vehicle_make',StringType()),\n",
    "                    StructField('vehicle_model',StringType()),\n",
    "                    StructField('vehicle_year',IntegerType()),\n",
    "                    StructField('net_worth',IntegerType()),\n",
    "                    StructField('income',StringType()),\n",
    "                    StructField('gender_individual',StringType()),\n",
    "                    StructField('age_individual',IntegerType()),\n",
    "                    StructField('education_highest',StringType()),\n",
    "                    StructField('occupation_highest',StringType()),\n",
    "                    StructField('education_1',StringType()),\n",
    "                    StructField('occupation_1',StringType()),\n",
    "                    StructField('age_2',IntegerType()),\n",
    "                    StructField('education_2',StringType()),\n",
    "                    StructField('occupation_2',StringType()),\n",
    "                    StructField('age_3',IntegerType()),\n",
    "                    StructField('education_3',StringType()),\n",
    "                    StructField('occupation_3',StringType()),\n",
    "                    StructField('age_4',IntegerType()),\n",
    "                    StructField('education_4',StringType()),\n",
    "                    StructField('occupation_4',StringType()),\n",
    "                    StructField('age_5',IntegerType()),\n",
    "                    StructField('education_5',StringType()),\n",
    "                    StructField('occupation_5',StringType()),\n",
    "                    StructField('polit_party_regist',StringType()),\n",
    "                    StructField('polit_party_input',StringType()),\n",
    "                    StructField('household_clusters',StringType()),\n",
    "                    StructField('insurance_groups',StringType()),\n",
    "                    StructField('financial_groups',StringType()),\n",
    "                    StructField('green_living',StringType())\n",
    "                  ])\n",
    "}"
   ]
  },
  {
   "cell_type": "markdown",
   "metadata": {
    "application/vnd.databricks.v1+cell": {
     "cellMetadata": {
      "byteLimit": 2048000,
      "rowLimit": 10000
     },
     "inputWidgets": {},
     "nuid": "a8b2a258-7b54-4b39-82c6-23b01030c554",
     "showTitle": false,
     "title": ""
    }
   },
   "source": [
    "# Read demogrphic data"
   ]
  },
  {
   "cell_type": "code",
   "execution_count": 0,
   "metadata": {
    "application/vnd.databricks.v1+cell": {
     "cellMetadata": {
      "byteLimit": 2048000,
      "rowLimit": 10000
     },
     "inputWidgets": {},
     "nuid": "0a70c78a-0c14-4362-b3d5-168b5e27481e",
     "showTitle": false,
     "title": ""
    }
   },
   "outputs": [
    {
     "output_type": "stream",
     "name": "stdout",
     "output_type": "stream",
     "text": [
      "root\n |-- household_id: string (nullable = true)\n |-- household_size: integer (nullable = true)\n |-- num_adults: integer (nullable = true)\n |-- num_generations: integer (nullable = true)\n |-- adult_range: string (nullable = true)\n |-- marital_status: string (nullable = true)\n |-- race_code: string (nullable = true)\n |-- presence_children: string (nullable = true)\n |-- num_children: integer (nullable = true)\n |-- age_children: string (nullable = true)\n |-- age_range_children: string (nullable = true)\n |-- dwelling_type: string (nullable = true)\n |-- home_owner_status: string (nullable = true)\n |-- length_residence: integer (nullable = true)\n |-- home_market_value: string (nullable = true)\n |-- num_vehicles: integer (nullable = true)\n |-- vehicle_make: string (nullable = true)\n |-- vehicle_model: string (nullable = true)\n |-- vehicle_year: integer (nullable = true)\n |-- net_worth: integer (nullable = true)\n |-- income: string (nullable = true)\n |-- gender_individual: string (nullable = true)\n |-- age_individual: integer (nullable = true)\n |-- education_highest: string (nullable = true)\n |-- occupation_highest: string (nullable = true)\n |-- education_1: string (nullable = true)\n |-- occupation_1: string (nullable = true)\n |-- age_2: integer (nullable = true)\n |-- education_2: string (nullable = true)\n |-- occupation_2: string (nullable = true)\n |-- age_3: integer (nullable = true)\n |-- education_3: string (nullable = true)\n |-- occupation_3: string (nullable = true)\n |-- age_4: integer (nullable = true)\n |-- education_4: string (nullable = true)\n |-- occupation_4: string (nullable = true)\n |-- age_5: integer (nullable = true)\n |-- education_5: string (nullable = true)\n |-- occupation_5: string (nullable = true)\n |-- polit_party_regist: string (nullable = true)\n |-- polit_party_input: string (nullable = true)\n |-- household_clusters: string (nullable = true)\n |-- insurance_groups: string (nullable = true)\n |-- financial_groups: string (nullable = true)\n |-- green_living: string (nullable = true)\n\ndemo_df contains 357721 records!\n"
     ]
    },
    {
     "output_type": "display_data",
     "data": {
      "text/html": [
       "<style scoped>\n",
       "  .table-result-container {\n",
       "    max-height: 300px;\n",
       "    overflow: auto;\n",
       "  }\n",
       "  table, th, td {\n",
       "    border: 1px solid black;\n",
       "    border-collapse: collapse;\n",
       "  }\n",
       "  th, td {\n",
       "    padding: 5px;\n",
       "  }\n",
       "  th {\n",
       "    text-align: left;\n",
       "  }\n",
       "</style><div class='table-result-container'><table class='table-result'><thead style='background-color: white'><tr><th>household_id</th><th>household_size</th><th>num_adults</th><th>num_generations</th><th>adult_range</th><th>marital_status</th><th>race_code</th><th>presence_children</th><th>num_children</th><th>age_children</th><th>age_range_children</th><th>dwelling_type</th><th>home_owner_status</th><th>length_residence</th><th>home_market_value</th><th>num_vehicles</th><th>vehicle_make</th><th>vehicle_model</th><th>vehicle_year</th><th>net_worth</th><th>income</th><th>gender_individual</th><th>age_individual</th><th>education_highest</th><th>occupation_highest</th><th>education_1</th><th>occupation_1</th><th>age_2</th><th>education_2</th><th>occupation_2</th><th>age_3</th><th>education_3</th><th>occupation_3</th><th>age_4</th><th>education_4</th><th>occupation_4</th><th>age_5</th><th>education_5</th><th>occupation_5</th><th>polit_party_regist</th><th>polit_party_input</th><th>household_clusters</th><th>insurance_groups</th><th>financial_groups</th><th>green_living</th></tr></thead><tbody><tr><td>00000015</td><td>2</td><td>2</td><td>1</td><td>000000000000100000000</td><td>S</td><td>B</td><td>null</td><td>null</td><td>0000000000000000000</td><td>000000000000000</td><td>S</td><td>O</td><td>5</td><td>E</td><td>null</td><td>null</td><td>null</td><td>null</td><td>6</td><td>4</td><td>M</td><td>60</td><td>4</td><td>null</td><td>null</td><td>null</td><td>null</td><td>null</td><td>null</td><td>null</td><td>null</td><td>null</td><td>null</td><td>null</td><td>null</td><td>null</td><td>null</td><td>null</td><td>null</td><td>D</td><td>443</td><td>02C3</td><td>08C3</td><td>null</td></tr><tr><td>00000024</td><td>2</td><td>2</td><td>1</td><td>000000000100000000000</td><td>null</td><td>W</td><td>null</td><td>null</td><td>0000000000000000000</td><td>000000000000000</td><td>M</td><td>O</td><td>null</td><td>F</td><td>null</td><td>null</td><td>null</td><td>null</td><td>7</td><td>7</td><td>F</td><td>46</td><td>3</td><td>Z</td><td>null</td><td>null</td><td>null</td><td>null</td><td>null</td><td>null</td><td>null</td><td>null</td><td>null</td><td>null</td><td>null</td><td>null</td><td>null</td><td>null</td><td>null</td><td>R</td><td>223</td><td>09O3</td><td>03O3</td><td>null</td></tr><tr><td>00000026</td><td>null</td><td>null</td><td>null</td><td>000000000000000000000</td><td>null</td><td>null</td><td>null</td><td>null</td><td>0000000000000000000</td><td>000000000000000</td><td>S</td><td>null</td><td>null</td><td>F</td><td>null</td><td>null</td><td>null</td><td>null</td><td>null</td><td>null</td><td>null</td><td>null</td><td>null</td><td>null</td><td>null</td><td>null</td><td>null</td><td>null</td><td>null</td><td>null</td><td>null</td><td>null</td><td>null</td><td>null</td><td>null</td><td>null</td><td>null</td><td>null</td><td>null</td><td>null</td><td>46G</td><td>04CG</td><td>08CG</td><td>null</td></tr><tr><td>00000028</td><td>3</td><td>2</td><td>2</td><td>000000110000000000000</td><td>S</td><td>W</td><td>Y</td><td>1</td><td>0000010000000000000</td><td>000001000000000</td><td>S</td><td>O</td><td>3</td><td>H</td><td>null</td><td>null</td><td>null</td><td>null</td><td>5</td><td>7</td><td>M</td><td>38</td><td>2</td><td>4</td><td>null</td><td>null</td><td>34</td><td>1</td><td>7</td><td>null</td><td>null</td><td>null</td><td>null</td><td>null</td><td>null</td><td>null</td><td>null</td><td>null</td><td>null</td><td>V</td><td>473</td><td>11R3</td><td>09C3</td><td>1</td></tr><tr><td>00000035</td><td>1</td><td>1</td><td>1</td><td>000000000100000000000</td><td>null</td><td>W</td><td>null</td><td>null</td><td>0000000000000000000</td><td>000000000000000</td><td>null</td><td>null</td><td>null</td><td>G</td><td>null</td><td>null</td><td>null</td><td>null</td><td>4</td><td>null</td><td>M</td><td>50</td><td>2</td><td>1</td><td>null</td><td>null</td><td>null</td><td>null</td><td>null</td><td>null</td><td>null</td><td>null</td><td>null</td><td>null</td><td>null</td><td>null</td><td>null</td><td>null</td><td>null</td><td>D</td><td>523</td><td>13C3</td><td>08C3</td><td>null</td></tr><tr><td>00000036</td><td>null</td><td>null</td><td>null</td><td>000000000000000000000</td><td>null</td><td>null</td><td>null</td><td>null</td><td>0000000000000000000</td><td>000000000000000</td><td>null</td><td>null</td><td>null</td><td>G</td><td>null</td><td>null</td><td>null</td><td>null</td><td>null</td><td>null</td><td>null</td><td>null</td><td>null</td><td>null</td><td>null</td><td>null</td><td>null</td><td>null</td><td>null</td><td>null</td><td>null</td><td>null</td><td>null</td><td>null</td><td>null</td><td>null</td><td>null</td><td>null</td><td>null</td><td>null</td><td>51G</td><td>10RG</td><td>10RG</td><td>null</td></tr></tbody></table></div>"
      ]
     },
     "metadata": {
      "application/vnd.databricks.v1+output": {
       "addedWidgets": {},
       "aggData": [],
       "aggError": "",
       "aggOverflow": false,
       "aggSchema": [],
       "aggSeriesLimitReached": false,
       "aggType": "",
       "arguments": {},
       "columnCustomDisplayInfos": {},
       "data": [
        [
         "00000015",
         2,
         2,
         1,
         "000000000000100000000",
         "S",
         "B",
         null,
         null,
         "0000000000000000000",
         "000000000000000",
         "S",
         "O",
         5,
         "E",
         null,
         null,
         null,
         null,
         6,
         "4",
         "M",
         60,
         "4",
         null,
         null,
         null,
         null,
         null,
         null,
         null,
         null,
         null,
         null,
         null,
         null,
         null,
         null,
         null,
         null,
         "D",
         "443",
         "02C3",
         "08C3",
         null
        ],
        [
         "00000024",
         2,
         2,
         1,
         "000000000100000000000",
         null,
         "W",
         null,
         null,
         "0000000000000000000",
         "000000000000000",
         "M",
         "O",
         null,
         "F",
         null,
         null,
         null,
         null,
         7,
         "7",
         "F",
         46,
         "3",
         "Z",
         null,
         null,
         null,
         null,
         null,
         null,
         null,
         null,
         null,
         null,
         null,
         null,
         null,
         null,
         null,
         "R",
         "223",
         "09O3",
         "03O3",
         null
        ],
        [
         "00000026",
         null,
         null,
         null,
         "000000000000000000000",
         null,
         null,
         null,
         null,
         "0000000000000000000",
         "000000000000000",
         "S",
         null,
         null,
         "F",
         null,
         null,
         null,
         null,
         null,
         null,
         null,
         null,
         null,
         null,
         null,
         null,
         null,
         null,
         null,
         null,
         null,
         null,
         null,
         null,
         null,
         null,
         null,
         null,
         null,
         null,
         "46G",
         "04CG",
         "08CG",
         null
        ],
        [
         "00000028",
         3,
         2,
         2,
         "000000110000000000000",
         "S",
         "W",
         "Y",
         1,
         "0000010000000000000",
         "000001000000000",
         "S",
         "O",
         3,
         "H",
         null,
         null,
         null,
         null,
         5,
         "7",
         "M",
         38,
         "2",
         "4",
         null,
         null,
         34,
         "1",
         "7",
         null,
         null,
         null,
         null,
         null,
         null,
         null,
         null,
         null,
         null,
         "V",
         "473",
         "11R3",
         "09C3",
         "1"
        ],
        [
         "00000035",
         1,
         1,
         1,
         "000000000100000000000",
         null,
         "W",
         null,
         null,
         "0000000000000000000",
         "000000000000000",
         null,
         null,
         null,
         "G",
         null,
         null,
         null,
         null,
         4,
         null,
         "M",
         50,
         "2",
         "1",
         null,
         null,
         null,
         null,
         null,
         null,
         null,
         null,
         null,
         null,
         null,
         null,
         null,
         null,
         null,
         "D",
         "523",
         "13C3",
         "08C3",
         null
        ],
        [
         "00000036",
         null,
         null,
         null,
         "000000000000000000000",
         null,
         null,
         null,
         null,
         "0000000000000000000",
         "000000000000000",
         null,
         null,
         null,
         "G",
         null,
         null,
         null,
         null,
         null,
         null,
         null,
         null,
         null,
         null,
         null,
         null,
         null,
         null,
         null,
         null,
         null,
         null,
         null,
         null,
         null,
         null,
         null,
         null,
         null,
         null,
         "51G",
         "10RG",
         "10RG",
         null
        ]
       ],
       "datasetInfos": [],
       "dbfsResultPath": null,
       "isJsonSchema": true,
       "metadata": {},
       "overflow": false,
       "plotOptions": {
        "customPlotOptions": {},
        "displayType": "table",
        "pivotAggregation": null,
        "pivotColumns": null,
        "xColumns": null,
        "yColumns": null
       },
       "removedWidgets": [],
       "schema": [
        {
         "metadata": "{}",
         "name": "household_id",
         "type": "\"string\""
        },
        {
         "metadata": "{}",
         "name": "household_size",
         "type": "\"integer\""
        },
        {
         "metadata": "{}",
         "name": "num_adults",
         "type": "\"integer\""
        },
        {
         "metadata": "{}",
         "name": "num_generations",
         "type": "\"integer\""
        },
        {
         "metadata": "{}",
         "name": "adult_range",
         "type": "\"string\""
        },
        {
         "metadata": "{}",
         "name": "marital_status",
         "type": "\"string\""
        },
        {
         "metadata": "{}",
         "name": "race_code",
         "type": "\"string\""
        },
        {
         "metadata": "{}",
         "name": "presence_children",
         "type": "\"string\""
        },
        {
         "metadata": "{}",
         "name": "num_children",
         "type": "\"integer\""
        },
        {
         "metadata": "{}",
         "name": "age_children",
         "type": "\"string\""
        },
        {
         "metadata": "{}",
         "name": "age_range_children",
         "type": "\"string\""
        },
        {
         "metadata": "{}",
         "name": "dwelling_type",
         "type": "\"string\""
        },
        {
         "metadata": "{}",
         "name": "home_owner_status",
         "type": "\"string\""
        },
        {
         "metadata": "{}",
         "name": "length_residence",
         "type": "\"integer\""
        },
        {
         "metadata": "{}",
         "name": "home_market_value",
         "type": "\"string\""
        },
        {
         "metadata": "{}",
         "name": "num_vehicles",
         "type": "\"integer\""
        },
        {
         "metadata": "{}",
         "name": "vehicle_make",
         "type": "\"string\""
        },
        {
         "metadata": "{}",
         "name": "vehicle_model",
         "type": "\"string\""
        },
        {
         "metadata": "{}",
         "name": "vehicle_year",
         "type": "\"integer\""
        },
        {
         "metadata": "{}",
         "name": "net_worth",
         "type": "\"integer\""
        },
        {
         "metadata": "{}",
         "name": "income",
         "type": "\"string\""
        },
        {
         "metadata": "{}",
         "name": "gender_individual",
         "type": "\"string\""
        },
        {
         "metadata": "{}",
         "name": "age_individual",
         "type": "\"integer\""
        },
        {
         "metadata": "{}",
         "name": "education_highest",
         "type": "\"string\""
        },
        {
         "metadata": "{}",
         "name": "occupation_highest",
         "type": "\"string\""
        },
        {
         "metadata": "{}",
         "name": "education_1",
         "type": "\"string\""
        },
        {
         "metadata": "{}",
         "name": "occupation_1",
         "type": "\"string\""
        },
        {
         "metadata": "{}",
         "name": "age_2",
         "type": "\"integer\""
        },
        {
         "metadata": "{}",
         "name": "education_2",
         "type": "\"string\""
        },
        {
         "metadata": "{}",
         "name": "occupation_2",
         "type": "\"string\""
        },
        {
         "metadata": "{}",
         "name": "age_3",
         "type": "\"integer\""
        },
        {
         "metadata": "{}",
         "name": "education_3",
         "type": "\"string\""
        },
        {
         "metadata": "{}",
         "name": "occupation_3",
         "type": "\"string\""
        },
        {
         "metadata": "{}",
         "name": "age_4",
         "type": "\"integer\""
        },
        {
         "metadata": "{}",
         "name": "education_4",
         "type": "\"string\""
        },
        {
         "metadata": "{}",
         "name": "occupation_4",
         "type": "\"string\""
        },
        {
         "metadata": "{}",
         "name": "age_5",
         "type": "\"integer\""
        },
        {
         "metadata": "{}",
         "name": "education_5",
         "type": "\"string\""
        },
        {
         "metadata": "{}",
         "name": "occupation_5",
         "type": "\"string\""
        },
        {
         "metadata": "{}",
         "name": "polit_party_regist",
         "type": "\"string\""
        },
        {
         "metadata": "{}",
         "name": "polit_party_input",
         "type": "\"string\""
        },
        {
         "metadata": "{}",
         "name": "household_clusters",
         "type": "\"string\""
        },
        {
         "metadata": "{}",
         "name": "insurance_groups",
         "type": "\"string\""
        },
        {
         "metadata": "{}",
         "name": "financial_groups",
         "type": "\"string\""
        },
        {
         "metadata": "{}",
         "name": "green_living",
         "type": "\"string\""
        }
       ],
       "type": "table"
      }
     },
     "output_type": "display_data"
    },
    {
     "output_type": "stream",
     "name": "stdout",
     "output_type": "stream",
     "text": [
      "CPU times: user 6.64 ms, sys: 3.35 ms, total: 9.99 ms\nWall time: 1.75 s\n"
     ]
    }
   ],
   "source": [
    "%%time\n",
    "# demographic data filename is 'demographic'\n",
    "demo_df = load_csv_file('demographic', schemas_dict['demographic'])\n",
    "\n",
    "demo_df.printSchema()\n",
    "print(f'demo_df contains {demo_df.count()} records!')\n",
    "display(demo_df.limit(6))"
   ]
  },
  {
   "cell_type": "markdown",
   "metadata": {
    "application/vnd.databricks.v1+cell": {
     "cellMetadata": {
      "byteLimit": 2048000,
      "rowLimit": 10000
     },
     "inputWidgets": {},
     "nuid": "f5a3b3e0-4f11-4d39-828f-73403cd0f495",
     "showTitle": false,
     "title": ""
    }
   },
   "source": [
    "# Read Daily program data"
   ]
  },
  {
   "cell_type": "code",
   "execution_count": 0,
   "metadata": {
    "application/vnd.databricks.v1+cell": {
     "cellMetadata": {
      "byteLimit": 2048000,
      "rowLimit": 10000
     },
     "inputWidgets": {},
     "nuid": "87c5a81b-c642-4e5a-8507-85e052707175",
     "showTitle": false,
     "title": ""
    }
   },
   "outputs": [
    {
     "output_type": "stream",
     "name": "stdout",
     "output_type": "stream",
     "text": [
      "root\n |-- prog_code: string (nullable = true)\n |-- title: string (nullable = true)\n |-- genre: string (nullable = true)\n |-- air_date: string (nullable = true)\n |-- air_time: string (nullable = true)\n |-- Duration: float (nullable = true)\n\ndaily_prog_df contains 13194849 records!\n"
     ]
    },
    {
     "output_type": "display_data",
     "data": {
      "text/html": [
       "<style scoped>\n",
       "  .table-result-container {\n",
       "    max-height: 300px;\n",
       "    overflow: auto;\n",
       "  }\n",
       "  table, th, td {\n",
       "    border: 1px solid black;\n",
       "    border-collapse: collapse;\n",
       "  }\n",
       "  th, td {\n",
       "    padding: 5px;\n",
       "  }\n",
       "  th {\n",
       "    text-align: left;\n",
       "  }\n",
       "</style><div class='table-result-container'><table class='table-result'><thead style='background-color: white'><tr><th>prog_code</th><th>title</th><th>genre</th><th>air_date</th><th>air_time</th><th>Duration</th></tr></thead><tbody><tr><td>EP000000250035</td><td>21 Jump Street</td><td>Crime drama</td><td>20151219</td><td>050000</td><td>60.0</td></tr><tr><td>EP000000250035</td><td>21 Jump Street</td><td>Crime drama</td><td>20151219</td><td>110000</td><td>60.0</td></tr><tr><td>EP000000250063</td><td>21 Jump Street</td><td>Crime drama</td><td>20151219</td><td>180000</td><td>60.0</td></tr><tr><td>EP000000510007</td><td>A Different World</td><td>Sitcom</td><td>20151219</td><td>100000</td><td>30.0</td></tr><tr><td>EP000000510008</td><td>A Different World</td><td>Sitcom</td><td>20151219</td><td>103000</td><td>30.0</td></tr><tr><td>EP000000510159</td><td>A Different World</td><td>Sitcom</td><td>20151219</td><td>080300</td><td>29.0</td></tr></tbody></table></div>"
      ]
     },
     "metadata": {
      "application/vnd.databricks.v1+output": {
       "addedWidgets": {},
       "aggData": [],
       "aggError": "",
       "aggOverflow": false,
       "aggSchema": [],
       "aggSeriesLimitReached": false,
       "aggType": "",
       "arguments": {},
       "columnCustomDisplayInfos": {},
       "data": [
        [
         "EP000000250035",
         "21 Jump Street",
         "Crime drama",
         "20151219",
         "050000",
         60.0
        ],
        [
         "EP000000250035",
         "21 Jump Street",
         "Crime drama",
         "20151219",
         "110000",
         60.0
        ],
        [
         "EP000000250063",
         "21 Jump Street",
         "Crime drama",
         "20151219",
         "180000",
         60.0
        ],
        [
         "EP000000510007",
         "A Different World",
         "Sitcom",
         "20151219",
         "100000",
         30.0
        ],
        [
         "EP000000510008",
         "A Different World",
         "Sitcom",
         "20151219",
         "103000",
         30.0
        ],
        [
         "EP000000510159",
         "A Different World",
         "Sitcom",
         "20151219",
         "080300",
         29.0
        ]
       ],
       "datasetInfos": [],
       "dbfsResultPath": null,
       "isJsonSchema": true,
       "metadata": {},
       "overflow": false,
       "plotOptions": {
        "customPlotOptions": {},
        "displayType": "table",
        "pivotAggregation": null,
        "pivotColumns": null,
        "xColumns": null,
        "yColumns": null
       },
       "removedWidgets": [],
       "schema": [
        {
         "metadata": "{}",
         "name": "prog_code",
         "type": "\"string\""
        },
        {
         "metadata": "{}",
         "name": "title",
         "type": "\"string\""
        },
        {
         "metadata": "{}",
         "name": "genre",
         "type": "\"string\""
        },
        {
         "metadata": "{}",
         "name": "air_date",
         "type": "\"string\""
        },
        {
         "metadata": "{}",
         "name": "air_time",
         "type": "\"string\""
        },
        {
         "metadata": "{}",
         "name": "Duration",
         "type": "\"float\""
        }
       ],
       "type": "table"
      }
     },
     "output_type": "display_data"
    },
    {
     "output_type": "stream",
     "name": "stdout",
     "output_type": "stream",
     "text": [
      "CPU times: user 13.5 ms, sys: 4.15 ms, total: 17.6 ms\nWall time: 9.32 s\n"
     ]
    }
   ],
   "source": [
    "%%time\n",
    "# daily_program data filename is 'Daily program data'\n",
    "daily_prog_df = load_csv_file('Daily program data', schemas_dict['Daily program data'])\n",
    "\n",
    "daily_prog_df.printSchema()\n",
    "print(f'daily_prog_df contains {daily_prog_df.count()} records!')\n",
    "display(daily_prog_df.limit(6))"
   ]
  },
  {
   "cell_type": "markdown",
   "metadata": {
    "application/vnd.databricks.v1+cell": {
     "cellMetadata": {
      "byteLimit": 2048000,
      "rowLimit": 10000
     },
     "inputWidgets": {},
     "nuid": "2155f591-6717-4faf-9a31-37fee9e14b0d",
     "showTitle": false,
     "title": ""
    }
   },
   "source": [
    "# Read viewing data"
   ]
  },
  {
   "cell_type": "code",
   "execution_count": 0,
   "metadata": {
    "application/vnd.databricks.v1+cell": {
     "cellMetadata": {
      "byteLimit": 2048000,
      "rowLimit": 10000
     },
     "inputWidgets": {},
     "nuid": "e07c7390-51d7-473c-abb7-43e9430a8c19",
     "showTitle": false,
     "title": ""
    }
   },
   "outputs": [
    {
     "output_type": "display_data",
     "data": {
      "text/html": [
       "<style scoped>\n",
       "  .table-result-container {\n",
       "    max-height: 300px;\n",
       "    overflow: auto;\n",
       "  }\n",
       "  table, th, td {\n",
       "    border: 1px solid black;\n",
       "    border-collapse: collapse;\n",
       "  }\n",
       "  th, td {\n",
       "    padding: 5px;\n",
       "  }\n",
       "  th {\n",
       "    text-align: left;\n",
       "  }\n",
       "</style><div class='table-result-container'><table class='table-result'><thead style='background-color: white'><tr><th>mso_code</th><th>device_id</th><th>event_date</th><th>event_time</th><th>station_num</th><th>prog_code</th></tr></thead><tbody><tr><td>01540</td><td>000000033afa</td><td>20151101</td><td>33000</td><td>67375</td><td>EP020820940009</td></tr><tr><td>01540</td><td>00000004e4b6</td><td>20151101</td><td>93000</td><td>42599</td><td>SP003189620000</td></tr><tr><td>01540</td><td>00000004eb8f</td><td>20151101</td><td>91856</td><td>42642</td><td>EP000176170270</td></tr><tr><td>01540</td><td>00000004f1d6</td><td>20151101</td><td>90206</td><td>68827</td><td>EP007961190099</td></tr><tr><td>01540</td><td>00000004f3c0</td><td>20151101</td><td>160658</td><td>10178</td><td>MV000259670000</td></tr><tr><td>01540</td><td>000000051ca0</td><td>20151101</td><td>174949</td><td>32645</td><td>EP001786120664</td></tr></tbody></table></div>"
      ]
     },
     "metadata": {
      "application/vnd.databricks.v1+output": {
       "addedWidgets": {},
       "aggData": [],
       "aggError": "",
       "aggOverflow": false,
       "aggSchema": [],
       "aggSeriesLimitReached": false,
       "aggType": "",
       "arguments": {},
       "columnCustomDisplayInfos": {},
       "data": [
        [
         "01540",
         "000000033afa",
         20151101,
         33000,
         "67375",
         "EP020820940009"
        ],
        [
         "01540",
         "00000004e4b6",
         20151101,
         93000,
         "42599",
         "SP003189620000"
        ],
        [
         "01540",
         "00000004eb8f",
         20151101,
         91856,
         "42642",
         "EP000176170270"
        ],
        [
         "01540",
         "00000004f1d6",
         20151101,
         90206,
         "68827",
         "EP007961190099"
        ],
        [
         "01540",
         "00000004f3c0",
         20151101,
         160658,
         "10178",
         "MV000259670000"
        ],
        [
         "01540",
         "000000051ca0",
         20151101,
         174949,
         "32645",
         "EP001786120664"
        ]
       ],
       "datasetInfos": [],
       "dbfsResultPath": null,
       "isJsonSchema": true,
       "metadata": {},
       "overflow": false,
       "plotOptions": {
        "customPlotOptions": {},
        "displayType": "table",
        "pivotAggregation": null,
        "pivotColumns": null,
        "xColumns": null,
        "yColumns": null
       },
       "removedWidgets": [],
       "schema": [
        {
         "metadata": "{}",
         "name": "mso_code",
         "type": "\"string\""
        },
        {
         "metadata": "{}",
         "name": "device_id",
         "type": "\"string\""
        },
        {
         "metadata": "{}",
         "name": "event_date",
         "type": "\"integer\""
        },
        {
         "metadata": "{}",
         "name": "event_time",
         "type": "\"integer\""
        },
        {
         "metadata": "{}",
         "name": "station_num",
         "type": "\"string\""
        },
        {
         "metadata": "{}",
         "name": "prog_code",
         "type": "\"string\""
        }
       ],
       "type": "table"
      }
     },
     "output_type": "display_data"
    },
    {
     "output_type": "stream",
     "name": "stdout",
     "output_type": "stream",
     "text": [
      "viewing10m_df contains 10042340 rows!\n"
     ]
    }
   ],
   "source": [
    "# Sample of 10 Million viewing entries\n",
    "\n",
    "dataPath = f\"dbfs:/viewing_10M\"\n",
    "viewing10m_df = spark.read.format(\"csv\")\\\n",
    "    .option(\"header\",\"true\")\\\n",
    "    .option(\"delimiter\",\",\")\\\n",
    "    .schema(schemas_dict['viewing_full'])\\\n",
    "    .load(dataPath)\n",
    "\n",
    "display(viewing10m_df.limit(6))\n",
    "print(f'viewing10m_df contains {viewing10m_df.count()} rows!')"
   ]
  },
  {
   "cell_type": "markdown",
   "metadata": {
    "application/vnd.databricks.v1+cell": {
     "cellMetadata": {
      "byteLimit": 2048000,
      "rowLimit": 10000
     },
     "inputWidgets": {},
     "nuid": "78d1c4d8-2a86-494e-ab01-f96fdd0cb019",
     "showTitle": false,
     "title": ""
    }
   },
   "source": [
    "# Read reference data"
   ]
  },
  {
   "cell_type": "code",
   "execution_count": 0,
   "metadata": {
    "application/vnd.databricks.v1+cell": {
     "cellMetadata": {
      "byteLimit": 2048000,
      "rowLimit": 10000
     },
     "inputWidgets": {},
     "nuid": "59ad090a-c8c9-45ca-877c-cef384caa9c6",
     "showTitle": false,
     "title": ""
    }
   },
   "outputs": [
    {
     "output_type": "stream",
     "name": "stdout",
     "output_type": "stream",
     "text": [
      "root\n |-- device_id: string (nullable = true)\n |-- dma: string (nullable = true)\n |-- dma_code: long (nullable = true)\n |-- household_id: long (nullable = true)\n |-- household_type: string (nullable = true)\n |-- system_type: string (nullable = true)\n |-- zipcode: long (nullable = true)\n\nref_df contains 1268071 records!\n"
     ]
    },
    {
     "output_type": "display_data",
     "data": {
      "text/html": [
       "<style scoped>\n",
       "  .table-result-container {\n",
       "    max-height: 300px;\n",
       "    overflow: auto;\n",
       "  }\n",
       "  table, th, td {\n",
       "    border: 1px solid black;\n",
       "    border-collapse: collapse;\n",
       "  }\n",
       "  th, td {\n",
       "    padding: 5px;\n",
       "  }\n",
       "  th {\n",
       "    text-align: left;\n",
       "  }\n",
       "</style><div class='table-result-container'><table class='table-result'><thead style='background-color: white'><tr><th>device_id</th><th>dma</th><th>dma_code</th><th>household_id</th><th>household_type</th><th>system_type</th><th>zipcode</th></tr></thead><tbody><tr><td>00000113498f</td><td>Toledo</td><td>547</td><td>1470605</td><td>FWM-ID</td><td>H</td><td>43460</td></tr><tr><td>12bf0065bad0</td><td>Toledo</td><td>547</td><td>1492575</td><td>FWM-ID</td><td>H</td><td>43460</td></tr><tr><td>000000797c1d</td><td>Toledo</td><td>547</td><td>1493317</td><td>FWM-ID</td><td>H</td><td>43460</td></tr><tr><td>000002de361c</td><td>Toledo</td><td>547</td><td>1446566</td><td>FWM-ID</td><td>H</td><td>43528</td></tr><tr><td>0000026360a2</td><td>Toledo</td><td>547</td><td>1467668</td><td>FWM-ID</td><td>H</td><td>43528</td></tr><tr><td>00000071622f</td><td>Toledo</td><td>547</td><td>1519598</td><td>FWM-ID</td><td>H</td><td>43528</td></tr></tbody></table></div>"
      ]
     },
     "metadata": {
      "application/vnd.databricks.v1+output": {
       "addedWidgets": {},
       "aggData": [],
       "aggError": "",
       "aggOverflow": false,
       "aggSchema": [],
       "aggSeriesLimitReached": false,
       "aggType": "",
       "arguments": {},
       "columnCustomDisplayInfos": {},
       "data": [
        [
         "00000113498f",
         "Toledo",
         547,
         1470605,
         "FWM-ID",
         "H",
         43460
        ],
        [
         "12bf0065bad0",
         "Toledo",
         547,
         1492575,
         "FWM-ID",
         "H",
         43460
        ],
        [
         "000000797c1d",
         "Toledo",
         547,
         1493317,
         "FWM-ID",
         "H",
         43460
        ],
        [
         "000002de361c",
         "Toledo",
         547,
         1446566,
         "FWM-ID",
         "H",
         43528
        ],
        [
         "0000026360a2",
         "Toledo",
         547,
         1467668,
         "FWM-ID",
         "H",
         43528
        ],
        [
         "00000071622f",
         "Toledo",
         547,
         1519598,
         "FWM-ID",
         "H",
         43528
        ]
       ],
       "datasetInfos": [],
       "dbfsResultPath": null,
       "isJsonSchema": true,
       "metadata": {},
       "overflow": false,
       "plotOptions": {
        "customPlotOptions": {},
        "displayType": "table",
        "pivotAggregation": null,
        "pivotColumns": null,
        "xColumns": null,
        "yColumns": null
       },
       "removedWidgets": [],
       "schema": [
        {
         "metadata": "{}",
         "name": "device_id",
         "type": "\"string\""
        },
        {
         "metadata": "{}",
         "name": "dma",
         "type": "\"string\""
        },
        {
         "metadata": "{}",
         "name": "dma_code",
         "type": "\"long\""
        },
        {
         "metadata": "{}",
         "name": "household_id",
         "type": "\"long\""
        },
        {
         "metadata": "{}",
         "name": "household_type",
         "type": "\"string\""
        },
        {
         "metadata": "{}",
         "name": "system_type",
         "type": "\"string\""
        },
        {
         "metadata": "{}",
         "name": "zipcode",
         "type": "\"long\""
        }
       ],
       "type": "table"
      }
     },
     "output_type": "display_data"
    },
    {
     "output_type": "stream",
     "name": "stdout",
     "output_type": "stream",
     "text": [
      "CPU times: user 118 µs, sys: 8.09 ms, total: 8.21 ms\nWall time: 772 ms\n"
     ]
    }
   ],
   "source": [
    "%%time\n",
    "# reference data is stored in parquet for your convinence.\n",
    "\n",
    "ref_df = spark.read.parquet('dbfs:/refxml_new_parquet')\n",
    "\n",
    "ref_df.printSchema()\n",
    "print(f'ref_df contains {ref_df.count()} records!')\n",
    "display(ref_df.limit(6))"
   ]
  },
  {
   "cell_type": "markdown",
   "metadata": {
    "application/vnd.databricks.v1+cell": {
     "cellMetadata": {
      "byteLimit": 2048000,
      "rowLimit": 10000
     },
     "inputWidgets": {},
     "nuid": "462b1959-d68b-4092-8702-7a930d8a363b",
     "showTitle": false,
     "title": ""
    }
   },
   "source": [
    "# Part 1"
   ]
  },
  {
   "cell_type": "code",
   "execution_count": 0,
   "metadata": {
    "application/vnd.databricks.v1+cell": {
     "cellMetadata": {
      "byteLimit": 2048000,
      "rowLimit": 10000
     },
     "inputWidgets": {},
     "nuid": "71470047-e5cd-45ff-8385-6d9a6ce4d75b",
     "showTitle": false,
     "title": ""
    }
   },
   "outputs": [],
   "source": [
    "import pyspark.sql.functions as f\n",
    "from pyspark.sql.window import Window"
   ]
  },
  {
   "cell_type": "code",
   "execution_count": 0,
   "metadata": {
    "application/vnd.databricks.v1+cell": {
     "cellMetadata": {
      "byteLimit": 2048000,
      "rowLimit": 10000
     },
     "inputWidgets": {},
     "nuid": "38838fc5-eb26-48dc-a1ec-e49bb7f3535c",
     "showTitle": false,
     "title": ""
    }
   },
   "outputs": [],
   "source": [
    "#filter data by drop unnecessary cols and duplicted rows\n",
    "demografic_cols_to_keep = ['household_id', 'household_size', 'num_adults', 'net_worth', 'income']\n",
    "demo_df = demo_df.select(*demografic_cols_to_keep).dropDuplicates(['household_id'])\n",
    "\n",
    "daily_cols_to_drop = ['title', 'Duration']\n",
    "daily_df = daily_prog_df.select(\"prog_code\", \"genre\").dropDuplicates(['prog_code'])\n",
    "daily_df = daily_df.join(daily_prog_df.drop(*daily_cols_to_drop), on=['prog_code', 'genre'], how='inner').dropDuplicates()\n",
    "\n",
    "viewing_cols_to_drop = ['mso_code', 'station_num']\n",
    "viewing_df = viewing10m_df.drop(*viewing_cols_to_drop).dropDuplicates()\n",
    "\n",
    "ref_cols_to_keep = ['device_id', 'dma', 'household_id']\n",
    "ref_df = ref_df.select(*ref_cols_to_keep).dropDuplicates(['device_id'])"
   ]
  },
  {
   "cell_type": "code",
   "execution_count": 0,
   "metadata": {
    "application/vnd.databricks.v1+cell": {
     "cellMetadata": {
      "byteLimit": 2048000,
      "rowLimit": 10000
     },
     "inputWidgets": {},
     "nuid": "cf0955a9-555a-4f2e-b599-d7c5a92fea17",
     "showTitle": false,
     "title": ""
    }
   },
   "outputs": [],
   "source": [
    "#will use as table of prog_code and condition to see what condition each prog_code satisfies\n",
    "prog_and_conditions = daily_df.select(\"prog_code\").distinct()"
   ]
  },
  {
   "cell_type": "markdown",
   "metadata": {
    "application/vnd.databricks.v1+cell": {
     "cellMetadata": {
      "byteLimit": 2048000,
      "rowLimit": 10000
     },
     "inputWidgets": {},
     "nuid": "5d61d357-0ee2-4963-8e37-dba6e64b1bd7",
     "showTitle": false,
     "title": ""
    }
   },
   "source": [
    "condition 1 - the prog_code was viewed by a device with a daily event avg > 5"
   ]
  },
  {
   "cell_type": "code",
   "execution_count": 0,
   "metadata": {
    "application/vnd.databricks.v1+cell": {
     "cellMetadata": {
      "byteLimit": 2048000,
      "rowLimit": 10000
     },
     "inputWidgets": {},
     "nuid": "74855b6c-c2f1-41e3-a4f5-9986df357665",
     "showTitle": false,
     "title": ""
    }
   },
   "outputs": [],
   "source": [
    "device_daily_avg_5 = viewing_df.groupBy(\"device_id\") \\\n",
    "    .agg((f.count(\"event_time\") / f.countDistinct(\"event_date\")).alias(\"avg_daily_times\")) \n",
    "\n",
    "daily_avg_5 = device_daily_avg_5.join(viewing_df.select(\"device_id\", \"prog_code\").distinct(), on=[\"device_id\"], how='inner') \n",
    "\n",
    "daily_avg_5 = daily_avg_5.groupBy(\"prog_code\").agg(\n",
    "    f.max(f.when(f.col(\"avg_daily_times\") > 5, 1).otherwise(0)).alias(\"condition1\"))\n",
    "\n",
    "prog_and_conditions = prog_and_conditions.join(daily_avg_5, on=[\"prog_code\"], how=\"left\") \\\n",
    "    .fillna({\"condition1\": 0})\n"
   ]
  },
  {
   "cell_type": "markdown",
   "metadata": {
    "application/vnd.databricks.v1+cell": {
     "cellMetadata": {
      "byteLimit": 2048000,
      "rowLimit": 10000
     },
     "inputWidgets": {},
     "nuid": "90f70256-766e-48ca-a454-ac97249b8476",
     "showTitle": false,
     "title": ""
    }
   },
   "source": [
    "condition 2 - the prog_code was viewed by a device associated with a dma name that contains 'z' (case insensitive)"
   ]
  },
  {
   "cell_type": "code",
   "execution_count": 0,
   "metadata": {
    "application/vnd.databricks.v1+cell": {
     "cellMetadata": {
      "byteLimit": 2048000,
      "rowLimit": 10000
     },
     "inputWidgets": {},
     "nuid": "817fc6a9-717c-4aa5-a4e7-66e598856d6c",
     "showTitle": false,
     "title": ""
    }
   },
   "outputs": [],
   "source": [
    "ref_and_view = ref_df.join(viewing_df.select(\"device_id\", \"prog_code\").distinct(), on=[\"device_id\"], how=\"inner\")\n",
    "\n",
    "dma_with_z = ref_and_view.groupBy(\"prog_code\").agg(\n",
    "    f.max(f.when(f.lower(f.col(\"dma\")).contains(\"z\"), 1).otherwise(0)).alias(\"condition2\"))\n",
    "\n",
    "prog_and_conditions = prog_and_conditions.join(dma_with_z, on=[\"prog_code\"], how=\"left\") \\\n",
    "    .fillna({\"condition2\": 0})\n"
   ]
  },
  {
   "cell_type": "markdown",
   "metadata": {
    "application/vnd.databricks.v1+cell": {
     "cellMetadata": {
      "byteLimit": 2048000,
      "rowLimit": 10000
     },
     "inputWidgets": {},
     "nuid": "a51675f1-f7e1-44a4-af13-6151d70cd43b",
     "showTitle": false,
     "title": ""
    }
   },
   "source": [
    "condition 3 - the prog_code was watched by a device from a family with num_adults < 3 and net_worth > 8"
   ]
  },
  {
   "cell_type": "code",
   "execution_count": 0,
   "metadata": {
    "application/vnd.databricks.v1+cell": {
     "cellMetadata": {
      "byteLimit": 2048000,
      "rowLimit": 10000
     },
     "inputWidgets": {},
     "nuid": "f94942d2-9fb3-42be-a8da-37265d075048",
     "showTitle": false,
     "title": ""
    }
   },
   "outputs": [],
   "source": [
    "demo_and_ref_and_view = ref_and_view.join(demo_df, on=['household_id'], how='inner').dropDuplicates()\n",
    "\n",
    "adults_3_net_8 = demo_and_ref_and_view.groupBy(\"prog_code\").agg(\n",
    "    f.max(f.when((f.col('num_adults') < 3) & (f.col('net_worth') > 8), 1).otherwise(0)).alias(\"condition3\"))\n",
    "\n",
    "prog_and_conditions = prog_and_conditions.join(adults_3_net_8, on=[\"prog_code\"], how=\"left\") \\\n",
    "    .fillna({\"condition3\": 0})\n"
   ]
  },
  {
   "cell_type": "markdown",
   "metadata": {
    "application/vnd.databricks.v1+cell": {
     "cellMetadata": {
      "byteLimit": 2048000,
      "rowLimit": 10000
     },
     "inputWidgets": {},
     "nuid": "44a74db6-63cf-4cd9-b38f-9da0295127e1",
     "showTitle": false,
     "title": ""
    }
   },
   "source": [
    "condition 4 - prog_code air_time <= 180000 at friday and air_time >= 190000 at sturday"
   ]
  },
  {
   "cell_type": "code",
   "execution_count": 0,
   "metadata": {
    "application/vnd.databricks.v1+cell": {
     "cellMetadata": {
      "byteLimit": 2048000,
      "rowLimit": 10000
     },
     "inputWidgets": {},
     "nuid": "dc710dff-9408-4f02-a465-df7eaffdf3d6",
     "showTitle": false,
     "title": ""
    }
   },
   "outputs": [],
   "source": [
    "#change air_date to type YYYYMMDD\n",
    "daily_df = daily_df.withColumn('air_date', f.to_date(f.col('air_date'), 'yyyyMMdd'))\n",
    "\n",
    "friday_saturday = daily_df.groupBy(\"prog_code\").agg(\n",
    "        f.max(f.when(((f.dayofweek(f.col(\"air_date\")).isin([6])) & (f.col(\"air_time\") >= 180000)) | \n",
    "                     ((f.dayofweek(f.col(\"air_date\")).isin([7])) & (f.col(\"air_time\") <= 190000)), 1) \\\n",
    "        .otherwise(0)).alias(\"condition4\"))\n",
    "\n",
    "prog_and_conditions = prog_and_conditions.join(friday_saturday, on=[\"prog_code\"], how=\"left\") \\\n",
    "    .fillna({\"condition4\": 0})"
   ]
  },
  {
   "cell_type": "markdown",
   "metadata": {
    "application/vnd.databricks.v1+cell": {
     "cellMetadata": {
      "byteLimit": 2048000,
      "rowLimit": 10000
     },
     "inputWidgets": {},
     "nuid": "b71dbc9b-f9a1-4f94-8510-c2ea9b030cdc",
     "showTitle": false,
     "title": ""
    }
   },
   "source": [
    "condition 5 - the prog_code was watched by a household with household_size >= 8"
   ]
  },
  {
   "cell_type": "code",
   "execution_count": 0,
   "metadata": {
    "application/vnd.databricks.v1+cell": {
     "cellMetadata": {
      "byteLimit": 2048000,
      "rowLimit": 10000
     },
     "inputWidgets": {},
     "nuid": "6878b305-fea4-40bb-bd1f-0f5064bd6e9e",
     "showTitle": false,
     "title": ""
    }
   },
   "outputs": [],
   "source": [
    "household_size_8 = demo_and_ref_and_view.groupBy(\"prog_code\").agg(\n",
    "    f.max(f.when(f.col('household_size') >= 8, 1).otherwise(0)).alias(\"condition5\"))\n",
    "\n",
    "prog_and_conditions = prog_and_conditions.join(household_size_8, on=[\"prog_code\"], how=\"left\") \\\n",
    "    .fillna({\"condition5\": 0})"
   ]
  },
  {
   "cell_type": "markdown",
   "metadata": {
    "application/vnd.databricks.v1+cell": {
     "cellMetadata": {
      "byteLimit": 2048000,
      "rowLimit": 10000
     },
     "inputWidgets": {},
     "nuid": "705bd089-95c9-44af-a362-ce33e1701b7a",
     "showTitle": false,
     "title": ""
    }
   },
   "source": [
    "condition 6 - the prog_code was watched by a device from a household with num_device > 3 and income < avg income"
   ]
  },
  {
   "cell_type": "code",
   "execution_count": 0,
   "metadata": {
    "application/vnd.databricks.v1+cell": {
     "cellMetadata": {
      "byteLimit": 2048000,
      "rowLimit": 10000
     },
     "inputWidgets": {},
     "nuid": "4e7c4ca4-4f4f-40db-bb94-8b995c4d4809",
     "showTitle": false,
     "title": ""
    }
   },
   "outputs": [],
   "source": [
    "window_all = Window.partitionBy()\n",
    "window_household = Window.partitionBy('household_id')\n",
    "\n",
    "#change income to int\n",
    "demo_df = demo_df.withColumn('income', \n",
    "    f.when(f.col('income') == 'A', 10)\n",
    "     .when(f.col('income') == 'B', 11)\n",
    "     .when(f.col('income') == 'C', 12)\n",
    "     .when(f.col('income') == 'D', 13)\n",
    "     .otherwise(f.col('income').cast('int')))\n",
    "\n",
    "#avg income of all household\n",
    "device_3 = demo_df.select('household_id', 'income').withColumn(\"avg_income\", f.avg(\"income\").over(window_all)) \\\n",
    "    .select('household_id', 'income', 'avg_income')\n",
    "\n",
    "#count amount of devices per household\n",
    "low_income = ref_df.select('household_id', 'device_id').withColumn('device_count', f.count(\"device_id\").over(window_household)) \\\n",
    "    .select('household_id', 'device_count').dropDuplicates()\n",
    "\n",
    "device_3_low_income = device_3.join(low_income, on=['household_id'], how='inner')\n",
    "\n",
    "device_3_low_income = demo_and_ref_and_view.select('prog_code', 'household_id') \\\n",
    "    .join(device_3_low_income, on=['household_id'], how='inner').dropDuplicates()\n",
    "\n",
    "device_3_low_income = device_3_low_income.groupBy('prog_code').agg(\n",
    "    f.max(f.when((f.col('avg_income') > f.col('income')) & (f.col('device_count') > 3), 1).otherwise(0)) \\\n",
    "    .alias(\"condition6\"))\n",
    "\n",
    "prog_and_conditions = prog_and_conditions.join(device_3_low_income, on=[\"prog_code\"], how=\"left\") \\\n",
    "    .fillna({\"condition6\": 0})\n"
   ]
  },
  {
   "cell_type": "markdown",
   "metadata": {
    "application/vnd.databricks.v1+cell": {
     "cellMetadata": {
      "byteLimit": 2048000,
      "rowLimit": 10000
     },
     "inputWidgets": {},
     "nuid": "3d09faac-b806-4bbb-8aa3-3ac544436413",
     "showTitle": false,
     "title": ""
    }
   },
   "source": [
    "condition 7 - prog with more than 1 genre from ['Hydroplane racing', 'Biathlon', 'Snowmobile', 'Community', 'Agriculture', 'Music'] "
   ]
  },
  {
   "cell_type": "code",
   "execution_count": 0,
   "metadata": {
    "application/vnd.databricks.v1+cell": {
     "cellMetadata": {
      "byteLimit": 2048000,
      "rowLimit": 10000
     },
     "inputWidgets": {},
     "nuid": "d88c30ec-1623-4e11-b975-abc95a71a868",
     "showTitle": false,
     "title": ""
    }
   },
   "outputs": [],
   "source": [
    "genre_list = ['Hydroplane racing', 'Biathlon', 'Snowmobile', 'Community', 'Agriculture', 'Music']\n",
    "\n",
    "#make genre a list of genres\n",
    "daily_df = daily_df.withColumn(\"genre\", f.split(f.col(\"genre\"), \",\"))\n",
    "\n",
    "#check if some genre from genre list is in daily genre of prog_code\n",
    "prog_genre = daily_df.select('prog_code', 'genre').dropDuplicates()\n",
    "prog_genre = prog_genre.withColumn('condition7', \n",
    "        f.when(f.expr(\" or \".join([f\"array_contains(genre, '{genre}')\" for genre in genre_list])), 1) \\\n",
    "        .otherwise(0))\n",
    "\n",
    "prog_and_conditions = prog_and_conditions.join(prog_genre.select('prog_code', 'condition7'), on=[\"prog_code\"], how=\"left\") \\\n",
    "    .fillna({\"condition7\": 0})"
   ]
  },
  {
   "cell_type": "code",
   "execution_count": 0,
   "metadata": {
    "application/vnd.databricks.v1+cell": {
     "cellMetadata": {
      "byteLimit": 2048000,
      "rowLimit": 10000
     },
     "inputWidgets": {},
     "nuid": "d5e4af97-3267-4e53-a8af-77f59ac3ba5a",
     "showTitle": false,
     "title": ""
    }
   },
   "outputs": [],
   "source": [
    "#sum all condition for a prog_code to see if prog_code has more then 4 - so he will be malicious\n",
    "prog_and_conditions = prog_and_conditions.withColumn(\"condition_sum\", \n",
    "    f.expr(\"condition1 + condition2 + condition3 + condition4 + condition5 + condition6 + condition7\"))\n",
    "\n",
    "malicious_prog_codes = prog_and_conditions.filter(f.col(\"condition_sum\") >= 4)\n"
   ]
  },
  {
   "cell_type": "code",
   "execution_count": 0,
   "metadata": {
    "application/vnd.databricks.v1+cell": {
     "cellMetadata": {
      "byteLimit": 2048000,
      "rowLimit": 10000
     },
     "inputWidgets": {},
     "nuid": "41ad1dc4-e5a1-4981-a23a-09f138674ad1",
     "showTitle": false,
     "title": ""
    }
   },
   "outputs": [
    {
     "output_type": "stream",
     "name": "stdout",
     "output_type": "stream",
     "text": [
      "+--------------+--------------+--------------+--------------+--------------+--------------+--------------+\n|sum_condition1|sum_condition2|sum_condition3|sum_condition4|sum_condition5|sum_condition6|sum_condition7|\n+--------------+--------------+--------------+--------------+--------------+--------------+--------------+\n|118411        |5670777       |5985000       |10221199      |4487557       |8442819       |1350909       |\n+--------------+--------------+--------------+--------------+--------------+--------------+--------------+\n\n"
     ]
    }
   ],
   "source": [
    "#sum each condition alone to see how many records apply to each condition\n",
    "condition_records = daily_prog_df.select('prog_code').join(prog_and_conditions, on=['prog_code'], how='inner')\n",
    "\n",
    "condition_sums = condition_records.agg(\n",
    "    f.sum(\"condition1\").alias(\"sum_condition1\"),\n",
    "    f.sum(\"condition2\").alias(\"sum_condition2\"),\n",
    "    f.sum(\"condition3\").alias(\"sum_condition3\"),\n",
    "    f.sum(\"condition4\").alias(\"sum_condition4\"),\n",
    "    f.sum(\"condition5\").alias(\"sum_condition5\"),\n",
    "    f.sum(\"condition6\").alias(\"sum_condition6\"),\n",
    "    f.sum(\"condition7\").alias(\"sum_condition7\")\n",
    ")\n",
    "\n",
    "condition_sums.show(truncate=False)"
   ]
  },
  {
   "cell_type": "code",
   "execution_count": 0,
   "metadata": {
    "application/vnd.databricks.v1+cell": {
     "cellMetadata": {
      "byteLimit": 2048000,
      "rowLimit": 10000
     },
     "inputWidgets": {},
     "nuid": "96d5c10d-9e5e-467b-9dbb-a741ff24307c",
     "showTitle": false,
     "title": ""
    }
   },
   "outputs": [],
   "source": [
    "#write malicious records to parquet\n",
    "col_to_drop = [\"condition1\", \"condition2\", \"condition3\", \"condition4\", \"condition5\", \"condition6\", \"condition7\", \"condition_sum\"]\n",
    "malicious_records = malicious_prog_codes.drop(*col_to_drop)\n",
    "malicious_records = daily_prog_df.join(malicious_prog_codes, on=['prog_code'], how='inner')\n",
    "malicious_records.write.mode(\"overwrite\").parquet(\"/Workspace/Users/antallykazky@campus.technion.ac.il/project1_part1_malicious_212895171_211569637.parquet\")\n"
   ]
  },
  {
   "cell_type": "code",
   "execution_count": 0,
   "metadata": {
    "application/vnd.databricks.v1+cell": {
     "cellMetadata": {
      "byteLimit": 2048000,
      "rowLimit": 10000
     },
     "inputWidgets": {},
     "nuid": "b0a4e5df-86c7-4e40-bf27-127ab7f06f77",
     "showTitle": false,
     "title": ""
    }
   },
   "outputs": [
    {
     "output_type": "stream",
     "name": "stdout",
     "output_type": "stream",
     "text": [
      "+--------------+\n|prog_code     |\n+--------------+\n|EP000000211576|\n|EP000000211639|\n|EP000000211645|\n|EP000000211646|\n|EP000000211647|\n|EP000000211648|\n|EP000000211649|\n|EP000000211650|\n|EP000000211654|\n|EP000000211659|\n|EP000000211661|\n|EP000000211662|\n|EP000000211665|\n|EP000000211666|\n|EP000000211667|\n|EP000000211669|\n|EP000000211670|\n|EP000000211672|\n|EP000000211676|\n|EP000000211679|\n|EP000000211680|\n|EP000000211681|\n|EP000000211682|\n|EP000000211683|\n|EP000000211684|\n|EP000000211685|\n|EP000000211686|\n|EP000000211688|\n|EP000000211689|\n|EP000000211690|\n|EP000000211692|\n|EP000000211694|\n|EP000000211696|\n|EP000000211698|\n|EP000000351218|\n|EP000000351219|\n|EP000000351223|\n|EP000000351224|\n|EP000000351225|\n|EP000000351228|\n|EP000000351230|\n|EP000000351235|\n|EP000000351240|\n|EP000000351247|\n|EP000000351250|\n|EP000000351251|\n|EP000000351254|\n|EP000000351255|\n|EP000000351257|\n|EP000000351258|\n+--------------+\nonly showing top 50 rows\n\n"
     ]
    }
   ],
   "source": [
    "#50 malicious prog_code order by ascending order \n",
    "malicious_prog_asc = malicious_prog_codes.select('prog_code').orderBy(f.col(\"prog_code\").asc())\n",
    "malicious_prog_asc.show(50, truncate=False)"
   ]
  }
 ],
 "metadata": {
  "application/vnd.databricks.v1+notebook": {
   "dashboards": [],
   "environmentMetadata": null,
   "language": "python",
   "notebookMetadata": {
    "pythonIndentUnit": 4
   },
   "notebookName": "project1_part1_212895171_211569637",
   "widgets": {}
  }
 },
 "nbformat": 4,
 "nbformat_minor": 0
}
